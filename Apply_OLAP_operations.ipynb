{
 "cells": [
  {
   "cell_type": "markdown",
   "metadata": {},
   "source": [
    "## Analyze the cube and perform the OLAP operations on that cube."
   ]
  },
  {
   "cell_type": "code",
   "execution_count": 23,
   "metadata": {
    "id": "jLftDG76-fO0"
   },
   "outputs": [],
   "source": [
    "#libraries\n",
    "import pandas as pd\n",
    "import numpy as np\n",
    "import random as rd\n",
    "import os"
   ]
  },
  {
   "cell_type": "code",
   "execution_count": 24,
   "metadata": {
    "id": "tSm9VmtsIkGC"
   },
   "outputs": [],
   "source": [
    "# Setup the dimension table\n",
    "\n",
    "#Dataset 1\n",
    "dataset1 = {\"key\":[\"CIVIC\", \"Corolla\", \"Cultus\",\"Aqua\",\"Swift\"],\n",
    "         \"price\":[4200000, 3700000, 2100000,2500000,2800000]}\n",
    "DS1 = pd.DataFrame(dataset1)\n"
   ]
  },
  {
   "cell_type": "code",
   "execution_count": 25,
   "metadata": {
    "id": "wICWT5Bn-giZ"
   },
   "outputs": [],
   "source": [
    "#Dataset2\n",
    "dataset2 = {\"key\":range(1,13),\n",
    "         \"desc\":[\"Jan\", \"Feb\", \"Mar\", \"Apr\", \"May\", \"Jun\", \"Jul\", \"Aug\", \"Sep\", \"Oct\", \"Nov\", \"Dec\"],\n",
    "         \"quarter\":[\"Q1\",\"Q1\",\"Q1\",\"Q2\",\"Q2\",\"Q2\",\"Q3\",\"Q3\",\"Q3\",\"Q4\",\"Q4\",\"Q4\"]}\n",
    "DS2 = pd.DataFrame(dataset2)"
   ]
  },
  {
   "cell_type": "code",
   "execution_count": 26,
   "metadata": {
    "id": "L0Vqnl8w-2kV"
   },
   "outputs": [],
   "source": [
    "#Dataset3\n",
    "dataset3 = {\"key\":[\"Latifabad\", \"Gulshan\", \"Iqbal Town\", \"Gahli\", \"Road\",\"Ny\",\"AX\"],\n",
    "        \"name\":[\"Hyderbad\", \"Karachi\", \"Lahore\", \"Deheli\", \"Kolkta\",\"New Yok\",\"California\"],\n",
    "        \"country\":[\"Pakistan\", \"Pakistan\", \"Pakistan\", \"India\", \"India\",\"USA\",\"USA\"]}\n",
    "DS3 = pd.DataFrame(dataset3)"
   ]
  },
  {
   "cell_type": "code",
   "execution_count": 27,
   "metadata": {
    "id": "PcTp9ebe-8u3"
   },
   "outputs": [],
   "source": [
    "# Function to generate the Sales table\n",
    "def gen_sales(no_of_recs):\n",
    "    \n",
    "    # Generate transaction data randomly\n",
    "    loc = rd.choices(DS3.key,weights = [2,2,3,3, 1, 1, 1],k=no_of_recs)\n",
    "    \n",
    "    time_month = rd.choices(DS2.key,k=no_of_recs)\n",
    "    time_year = rd.choices([2020,2021,2022],k=no_of_recs)\n",
    "    \n",
    "    prod = rd.choices(DS1.key,k= no_of_recs,weights = [1, 3, 2,4,5])\n",
    "    unit = rd.choices([1,2,3],k=no_of_recs,weights = [10, 3,40])\n",
    "    \n",
    "    sales = pd.DataFrame({'month':time_month,\n",
    "                      'year':time_year,\n",
    "                      'location':loc,\n",
    "                      'Car':prod,\n",
    "                      'unit':unit\n",
    "                         }\n",
    "                      )\n",
    "    \n",
    "\n",
    "    # Sort the records by time order\n",
    "    sales = sales.sort_values(by = ['year','month'])\n",
    "    \n",
    "    return(sales)"
   ]
  },
  {
   "cell_type": "code",
   "execution_count": 28,
   "metadata": {
    "id": "_yCkjHLT_HyU"
   },
   "outputs": [],
   "source": [
    "#set columns\n",
    "Purchased = gen_sales(500)\n",
    "Purchased[\"value\"] = 1\n",
    "Purchased['quarter'] = 1\n",
    "Purchased['country'] = 1"
   ]
  },
  {
   "cell_type": "code",
   "execution_count": 29,
   "metadata": {
    "id": "7yQ8434S_Qrb"
   },
   "outputs": [],
   "source": [
    "#set price\n",
    "def amount(cols):\n",
    "    value = cols[0]\n",
    "    Car = cols[1]\n",
    "    while value == 1:\n",
    "        if  Car == \"CIVIC\":\n",
    "            return 4200000\n",
    "        elif Car == \"Corolla\":\n",
    "            return 3700000\n",
    "        \n",
    "        elif Car == \"Cultus\":\n",
    "            return 2100000\n",
    "        \n",
    "        elif Car == \"Aqua\":\n",
    "            return 2500000 \n",
    "        \n",
    "        else:\n",
    "            return 2800000\n",
    "        \n",
    "#set quaters       \n",
    "def quarter(cols):\n",
    "    quarter = cols[0]\n",
    "    month = cols[1]\n",
    "    while quarter == 1:\n",
    "        \n",
    "        if  month <= 3:\n",
    "            return 'Q1'\n",
    "        \n",
    "        elif month <= 6:\n",
    "            return 'Q2'\n",
    "        \n",
    "        elif month <= 9:\n",
    "            return 'Q3'\n",
    "        \n",
    "        else:\n",
    "            return 'Q4' \n",
    "\n",
    "#set countries\n",
    "def country(cols):\n",
    "    \n",
    "    country = cols[0]\n",
    "    location = cols[1]\n",
    "    \n",
    "    while country == 1:\n",
    "        \n",
    "        if  location == \"Latifabad\":\n",
    "            return 'Pakistan'\n",
    "        \n",
    "        elif location == \"Gulshan\":\n",
    "            return 'Pakistan'\n",
    "        \n",
    "        elif location == \"Iqbal Town\":\n",
    "            return 'Pakistan'\n",
    "        \n",
    "        elif location == \"Ghali\":\n",
    "            return 'India'\n",
    "        \n",
    "        elif location == \"Road\":\n",
    "            return 'India'\n",
    "        \n",
    "        elif location == \"Ny\":\n",
    "            return 'USA'\n",
    "        \n",
    "        elif location == \"Ax\":\n",
    "            return 'USA'\n",
    "        \n",
    "        else:\n",
    "            return 'USA'"
   ]
  },
  {
   "cell_type": "code",
   "execution_count": 30,
   "metadata": {
    "id": "hnu3ltFY_h9t"
   },
   "outputs": [],
   "source": [
    "#set quarter based on months\n",
    "Purchased[\"quarter\"] = Purchased[['quarter','month']].apply(quarter,axis=1)\n",
    "\n",
    "#set country based on location and country name\n",
    "Purchased[\"country\"] = Purchased[['country','location']].apply(country,axis=1)\n",
    "\n",
    "#set value of car based car models\n",
    "Purchased[\"value\"] = Purchased[['value','Car']].apply(amount,axis=1)\n",
    "\n",
    "#set price of car\n",
    "Purchased['amount'] =Purchased[\"value\"]*Purchased['unit']"
   ]
  },
  {
   "cell_type": "code",
   "execution_count": 31,
   "metadata": {
    "id": "BpTmRDBsAEsD"
   },
   "outputs": [],
   "source": [
    "#convert datasets into new single dataset\n",
    "Purchased.to_csv('sales.csv')\n",
    "\n",
    "\n",
    "sale = os.path.abspath(\"sales.csv\")\n",
    "\n",
    "#read new dataset\n",
    "revenue =  pd.read_csv(sale)"
   ]
  },
  {
   "cell_type": "code",
   "execution_count": 32,
   "metadata": {
    "id": "0D7WEBbwBCoj"
   },
   "outputs": [],
   "source": [
    "#drop unnamed \n",
    "revenue.drop(['Unnamed: 0','unit','value'],axis=1,inplace=True)\n",
    "\n",
    "revenue = revenue[['month', 'quarter','year','location','country','Car','amount']]"
   ]
  },
  {
   "cell_type": "code",
   "execution_count": 33,
   "metadata": {
    "colab": {
     "base_uri": "https://localhost:8080/",
     "height": 677
    },
    "id": "YoHPJGFZJVKt",
    "outputId": "3e45a51c-8552-4b26-a90a-83a35371c369"
   },
   "outputs": [
    {
     "data": {
      "text/html": [
       "<div>\n",
       "<style scoped>\n",
       "    .dataframe tbody tr th:only-of-type {\n",
       "        vertical-align: middle;\n",
       "    }\n",
       "\n",
       "    .dataframe tbody tr th {\n",
       "        vertical-align: top;\n",
       "    }\n",
       "\n",
       "    .dataframe thead th {\n",
       "        text-align: right;\n",
       "    }\n",
       "</style>\n",
       "<table border=\"1\" class=\"dataframe\">\n",
       "  <thead>\n",
       "    <tr style=\"text-align: right;\">\n",
       "      <th></th>\n",
       "      <th>month</th>\n",
       "      <th>quarter</th>\n",
       "      <th>year</th>\n",
       "      <th>location</th>\n",
       "      <th>country</th>\n",
       "      <th>Car</th>\n",
       "      <th>amount</th>\n",
       "    </tr>\n",
       "  </thead>\n",
       "  <tbody>\n",
       "    <tr>\n",
       "      <th>0</th>\n",
       "      <td>1</td>\n",
       "      <td>Q1</td>\n",
       "      <td>2020</td>\n",
       "      <td>Gulshan</td>\n",
       "      <td>Pakistan</td>\n",
       "      <td>Swift</td>\n",
       "      <td>8400000</td>\n",
       "    </tr>\n",
       "    <tr>\n",
       "      <th>1</th>\n",
       "      <td>1</td>\n",
       "      <td>Q1</td>\n",
       "      <td>2020</td>\n",
       "      <td>Road</td>\n",
       "      <td>India</td>\n",
       "      <td>Aqua</td>\n",
       "      <td>7500000</td>\n",
       "    </tr>\n",
       "    <tr>\n",
       "      <th>2</th>\n",
       "      <td>1</td>\n",
       "      <td>Q1</td>\n",
       "      <td>2020</td>\n",
       "      <td>Gulshan</td>\n",
       "      <td>Pakistan</td>\n",
       "      <td>Aqua</td>\n",
       "      <td>7500000</td>\n",
       "    </tr>\n",
       "    <tr>\n",
       "      <th>3</th>\n",
       "      <td>1</td>\n",
       "      <td>Q1</td>\n",
       "      <td>2020</td>\n",
       "      <td>Ny</td>\n",
       "      <td>USA</td>\n",
       "      <td>Aqua</td>\n",
       "      <td>7500000</td>\n",
       "    </tr>\n",
       "    <tr>\n",
       "      <th>4</th>\n",
       "      <td>1</td>\n",
       "      <td>Q1</td>\n",
       "      <td>2020</td>\n",
       "      <td>AX</td>\n",
       "      <td>USA</td>\n",
       "      <td>Swift</td>\n",
       "      <td>8400000</td>\n",
       "    </tr>\n",
       "    <tr>\n",
       "      <th>5</th>\n",
       "      <td>1</td>\n",
       "      <td>Q1</td>\n",
       "      <td>2020</td>\n",
       "      <td>Gahli</td>\n",
       "      <td>USA</td>\n",
       "      <td>Aqua</td>\n",
       "      <td>7500000</td>\n",
       "    </tr>\n",
       "    <tr>\n",
       "      <th>6</th>\n",
       "      <td>1</td>\n",
       "      <td>Q1</td>\n",
       "      <td>2020</td>\n",
       "      <td>Gahli</td>\n",
       "      <td>USA</td>\n",
       "      <td>Corolla</td>\n",
       "      <td>11100000</td>\n",
       "    </tr>\n",
       "    <tr>\n",
       "      <th>7</th>\n",
       "      <td>1</td>\n",
       "      <td>Q1</td>\n",
       "      <td>2020</td>\n",
       "      <td>Latifabad</td>\n",
       "      <td>Pakistan</td>\n",
       "      <td>Corolla</td>\n",
       "      <td>11100000</td>\n",
       "    </tr>\n",
       "    <tr>\n",
       "      <th>8</th>\n",
       "      <td>1</td>\n",
       "      <td>Q1</td>\n",
       "      <td>2020</td>\n",
       "      <td>Road</td>\n",
       "      <td>India</td>\n",
       "      <td>Aqua</td>\n",
       "      <td>5000000</td>\n",
       "    </tr>\n",
       "    <tr>\n",
       "      <th>9</th>\n",
       "      <td>1</td>\n",
       "      <td>Q1</td>\n",
       "      <td>2020</td>\n",
       "      <td>Iqbal Town</td>\n",
       "      <td>Pakistan</td>\n",
       "      <td>Corolla</td>\n",
       "      <td>3700000</td>\n",
       "    </tr>\n",
       "    <tr>\n",
       "      <th>10</th>\n",
       "      <td>1</td>\n",
       "      <td>Q1</td>\n",
       "      <td>2020</td>\n",
       "      <td>Latifabad</td>\n",
       "      <td>Pakistan</td>\n",
       "      <td>Aqua</td>\n",
       "      <td>7500000</td>\n",
       "    </tr>\n",
       "    <tr>\n",
       "      <th>11</th>\n",
       "      <td>1</td>\n",
       "      <td>Q1</td>\n",
       "      <td>2020</td>\n",
       "      <td>Iqbal Town</td>\n",
       "      <td>Pakistan</td>\n",
       "      <td>Swift</td>\n",
       "      <td>2800000</td>\n",
       "    </tr>\n",
       "    <tr>\n",
       "      <th>12</th>\n",
       "      <td>1</td>\n",
       "      <td>Q1</td>\n",
       "      <td>2020</td>\n",
       "      <td>Gulshan</td>\n",
       "      <td>Pakistan</td>\n",
       "      <td>Aqua</td>\n",
       "      <td>7500000</td>\n",
       "    </tr>\n",
       "    <tr>\n",
       "      <th>13</th>\n",
       "      <td>1</td>\n",
       "      <td>Q1</td>\n",
       "      <td>2020</td>\n",
       "      <td>Iqbal Town</td>\n",
       "      <td>Pakistan</td>\n",
       "      <td>Corolla</td>\n",
       "      <td>11100000</td>\n",
       "    </tr>\n",
       "    <tr>\n",
       "      <th>14</th>\n",
       "      <td>1</td>\n",
       "      <td>Q1</td>\n",
       "      <td>2020</td>\n",
       "      <td>Gahli</td>\n",
       "      <td>USA</td>\n",
       "      <td>Cultus</td>\n",
       "      <td>2100000</td>\n",
       "    </tr>\n",
       "    <tr>\n",
       "      <th>15</th>\n",
       "      <td>2</td>\n",
       "      <td>Q1</td>\n",
       "      <td>2020</td>\n",
       "      <td>AX</td>\n",
       "      <td>USA</td>\n",
       "      <td>CIVIC</td>\n",
       "      <td>12600000</td>\n",
       "    </tr>\n",
       "    <tr>\n",
       "      <th>16</th>\n",
       "      <td>2</td>\n",
       "      <td>Q1</td>\n",
       "      <td>2020</td>\n",
       "      <td>Latifabad</td>\n",
       "      <td>Pakistan</td>\n",
       "      <td>Swift</td>\n",
       "      <td>8400000</td>\n",
       "    </tr>\n",
       "    <tr>\n",
       "      <th>17</th>\n",
       "      <td>2</td>\n",
       "      <td>Q1</td>\n",
       "      <td>2020</td>\n",
       "      <td>Iqbal Town</td>\n",
       "      <td>Pakistan</td>\n",
       "      <td>Swift</td>\n",
       "      <td>5600000</td>\n",
       "    </tr>\n",
       "    <tr>\n",
       "      <th>18</th>\n",
       "      <td>2</td>\n",
       "      <td>Q1</td>\n",
       "      <td>2020</td>\n",
       "      <td>AX</td>\n",
       "      <td>USA</td>\n",
       "      <td>Swift</td>\n",
       "      <td>2800000</td>\n",
       "    </tr>\n",
       "    <tr>\n",
       "      <th>19</th>\n",
       "      <td>2</td>\n",
       "      <td>Q1</td>\n",
       "      <td>2020</td>\n",
       "      <td>Iqbal Town</td>\n",
       "      <td>Pakistan</td>\n",
       "      <td>Swift</td>\n",
       "      <td>8400000</td>\n",
       "    </tr>\n",
       "  </tbody>\n",
       "</table>\n",
       "</div>"
      ],
      "text/plain": [
       "    month quarter  year    location   country      Car    amount\n",
       "0       1      Q1  2020     Gulshan  Pakistan    Swift   8400000\n",
       "1       1      Q1  2020        Road     India     Aqua   7500000\n",
       "2       1      Q1  2020     Gulshan  Pakistan     Aqua   7500000\n",
       "3       1      Q1  2020          Ny       USA     Aqua   7500000\n",
       "4       1      Q1  2020          AX       USA    Swift   8400000\n",
       "5       1      Q1  2020       Gahli       USA     Aqua   7500000\n",
       "6       1      Q1  2020       Gahli       USA  Corolla  11100000\n",
       "7       1      Q1  2020   Latifabad  Pakistan  Corolla  11100000\n",
       "8       1      Q1  2020        Road     India     Aqua   5000000\n",
       "9       1      Q1  2020  Iqbal Town  Pakistan  Corolla   3700000\n",
       "10      1      Q1  2020   Latifabad  Pakistan     Aqua   7500000\n",
       "11      1      Q1  2020  Iqbal Town  Pakistan    Swift   2800000\n",
       "12      1      Q1  2020     Gulshan  Pakistan     Aqua   7500000\n",
       "13      1      Q1  2020  Iqbal Town  Pakistan  Corolla  11100000\n",
       "14      1      Q1  2020       Gahli       USA   Cultus   2100000\n",
       "15      2      Q1  2020          AX       USA    CIVIC  12600000\n",
       "16      2      Q1  2020   Latifabad  Pakistan    Swift   8400000\n",
       "17      2      Q1  2020  Iqbal Town  Pakistan    Swift   5600000\n",
       "18      2      Q1  2020          AX       USA    Swift   2800000\n",
       "19      2      Q1  2020  Iqbal Town  Pakistan    Swift   8400000"
      ]
     },
     "execution_count": 33,
     "metadata": {},
     "output_type": "execute_result"
    }
   ],
   "source": [
    "#print some starting rows\n",
    "revenue.head(20)"
   ]
  },
  {
   "cell_type": "markdown",
   "metadata": {
    "id": "BowjHmflRyoj"
   },
   "source": [
    "# Dice\n",
    "It selects a sub-cube from the OLAP cube by selecting two or more dimensions. "
   ]
  },
  {
   "cell_type": "code",
   "execution_count": 34,
   "metadata": {
    "colab": {
     "base_uri": "https://localhost:8080/",
     "height": 269
    },
    "id": "TEQVP94YJXVG",
    "outputId": "d2c9162d-d941-4dac-c6e4-fa81fb1cdea6"
   },
   "outputs": [
    {
     "data": {
      "text/html": [
       "<div>\n",
       "<style scoped>\n",
       "    .dataframe tbody tr th:only-of-type {\n",
       "        vertical-align: middle;\n",
       "    }\n",
       "\n",
       "    .dataframe tbody tr th {\n",
       "        vertical-align: top;\n",
       "    }\n",
       "\n",
       "    .dataframe thead th {\n",
       "        text-align: right;\n",
       "    }\n",
       "</style>\n",
       "<table border=\"1\" class=\"dataframe\">\n",
       "  <thead>\n",
       "    <tr style=\"text-align: right;\">\n",
       "      <th></th>\n",
       "      <th></th>\n",
       "      <th></th>\n",
       "      <th>amount</th>\n",
       "    </tr>\n",
       "    <tr>\n",
       "      <th>year</th>\n",
       "      <th>Car</th>\n",
       "      <th>month</th>\n",
       "      <th></th>\n",
       "    </tr>\n",
       "  </thead>\n",
       "  <tbody>\n",
       "    <tr>\n",
       "      <th>2020</th>\n",
       "      <th>Cultus</th>\n",
       "      <th>3</th>\n",
       "      <td>2100000</td>\n",
       "    </tr>\n",
       "  </tbody>\n",
       "</table>\n",
       "</div>"
      ],
      "text/plain": [
       "                    amount\n",
       "year Car    month         \n",
       "2020 Cultus 3      2100000"
      ]
     },
     "execution_count": 34,
     "metadata": {},
     "output_type": "execute_result"
    }
   ],
   "source": [
    "dc = revenue[(revenue['year'] ==2020) & (revenue['location'] == 'Latifabad') & \n",
    "             ((revenue['Car'] =='CIVIC') | (revenue['Car']=='Cultus')) &\n",
    "            ((revenue['month']==1) | (revenue['month']==2) | (revenue['month']==3))]\n",
    "dc.groupby(['year','Car','month']).sum()"
   ]
  },
  {
   "cell_type": "markdown",
   "metadata": {
    "id": "VrVNqlRPSABD"
   },
   "source": [
    "# Rollup\n",
    " is about applying an aggregation function to collapse a number of dimensions. For example, we want to focus in the annual revenue for each car and collapse the location dimension (ie: we don't care where we sold our product).\n",
    "\n",
    "It performs aggregation on the OLAP cube. \n",
    "It can be done by:\n",
    "▪ Climbing up in the concept hierarchy\n",
    "▪ Reducing the dimensions"
   ]
  },
  {
   "cell_type": "code",
   "execution_count": 35,
   "metadata": {
    "colab": {
     "base_uri": "https://localhost:8080/",
     "height": 143
    },
    "id": "iFyjQbrjJbCL",
    "outputId": "7d22a26f-58e4-4e65-9975-a8e479e063ed"
   },
   "outputs": [
    {
     "data": {
      "text/html": [
       "<div>\n",
       "<style scoped>\n",
       "    .dataframe tbody tr th:only-of-type {\n",
       "        vertical-align: middle;\n",
       "    }\n",
       "\n",
       "    .dataframe tbody tr th {\n",
       "        vertical-align: top;\n",
       "    }\n",
       "\n",
       "    .dataframe thead th {\n",
       "        text-align: right;\n",
       "    }\n",
       "</style>\n",
       "<table border=\"1\" class=\"dataframe\">\n",
       "  <thead>\n",
       "    <tr style=\"text-align: right;\">\n",
       "      <th></th>\n",
       "      <th>amount</th>\n",
       "    </tr>\n",
       "    <tr>\n",
       "      <th>year</th>\n",
       "      <th></th>\n",
       "    </tr>\n",
       "  </thead>\n",
       "  <tbody>\n",
       "    <tr>\n",
       "      <th>2020</th>\n",
       "      <td>1144000000</td>\n",
       "    </tr>\n",
       "    <tr>\n",
       "      <th>2021</th>\n",
       "      <td>1050600000</td>\n",
       "    </tr>\n",
       "    <tr>\n",
       "      <th>2022</th>\n",
       "      <td>1487000000</td>\n",
       "    </tr>\n",
       "  </tbody>\n",
       "</table>\n",
       "</div>"
      ],
      "text/plain": [
       "          amount\n",
       "year            \n",
       "2020  1144000000\n",
       "2021  1050600000\n",
       "2022  1487000000"
      ]
     },
     "execution_count": 35,
     "metadata": {},
     "output_type": "execute_result"
    }
   ],
   "source": [
    "revenue.groupby(['year']).sum().drop(['month'],axis=1)"
   ]
  },
  {
   "cell_type": "markdown",
   "metadata": {
    "id": "sqkLDjBwc8Vt"
   },
   "source": [
    "# Slice\n",
    "is about fixing certain dimensions to analyze the remaining dimensions. For example, we can focus in the sales happening in \"2021\", \"Feb\", or we can focus in the sales happening in \"2021\", \"Jan\", \"Car\"."
   ]
  },
  {
   "cell_type": "code",
   "execution_count": 36,
   "metadata": {
    "colab": {
     "base_uri": "https://localhost:8080/",
     "height": 206
    },
    "id": "Kq6oq7j0JeHL",
    "outputId": "95c4b3de-b87b-4ce7-eb14-cfc540e8b600"
   },
   "outputs": [
    {
     "data": {
      "text/html": [
       "<div>\n",
       "<style scoped>\n",
       "    .dataframe tbody tr th:only-of-type {\n",
       "        vertical-align: middle;\n",
       "    }\n",
       "\n",
       "    .dataframe tbody tr th {\n",
       "        vertical-align: top;\n",
       "    }\n",
       "\n",
       "    .dataframe thead th {\n",
       "        text-align: right;\n",
       "    }\n",
       "</style>\n",
       "<table border=\"1\" class=\"dataframe\">\n",
       "  <thead>\n",
       "    <tr style=\"text-align: right;\">\n",
       "      <th></th>\n",
       "      <th>month</th>\n",
       "      <th>quarter</th>\n",
       "      <th>year</th>\n",
       "      <th>location</th>\n",
       "      <th>country</th>\n",
       "      <th>Car</th>\n",
       "      <th>amount</th>\n",
       "    </tr>\n",
       "  </thead>\n",
       "  <tbody>\n",
       "    <tr>\n",
       "      <th>160</th>\n",
       "      <td>2</td>\n",
       "      <td>Q1</td>\n",
       "      <td>2021</td>\n",
       "      <td>Gahli</td>\n",
       "      <td>USA</td>\n",
       "      <td>Corolla</td>\n",
       "      <td>11100000</td>\n",
       "    </tr>\n",
       "    <tr>\n",
       "      <th>161</th>\n",
       "      <td>2</td>\n",
       "      <td>Q1</td>\n",
       "      <td>2021</td>\n",
       "      <td>Iqbal Town</td>\n",
       "      <td>Pakistan</td>\n",
       "      <td>Corolla</td>\n",
       "      <td>11100000</td>\n",
       "    </tr>\n",
       "    <tr>\n",
       "      <th>162</th>\n",
       "      <td>2</td>\n",
       "      <td>Q1</td>\n",
       "      <td>2021</td>\n",
       "      <td>Gulshan</td>\n",
       "      <td>Pakistan</td>\n",
       "      <td>Cultus</td>\n",
       "      <td>6300000</td>\n",
       "    </tr>\n",
       "    <tr>\n",
       "      <th>163</th>\n",
       "      <td>2</td>\n",
       "      <td>Q1</td>\n",
       "      <td>2021</td>\n",
       "      <td>Gulshan</td>\n",
       "      <td>Pakistan</td>\n",
       "      <td>Swift</td>\n",
       "      <td>8400000</td>\n",
       "    </tr>\n",
       "    <tr>\n",
       "      <th>164</th>\n",
       "      <td>2</td>\n",
       "      <td>Q1</td>\n",
       "      <td>2021</td>\n",
       "      <td>Latifabad</td>\n",
       "      <td>Pakistan</td>\n",
       "      <td>Aqua</td>\n",
       "      <td>7500000</td>\n",
       "    </tr>\n",
       "  </tbody>\n",
       "</table>\n",
       "</div>"
      ],
      "text/plain": [
       "     month quarter  year    location   country      Car    amount\n",
       "160      2      Q1  2021       Gahli       USA  Corolla  11100000\n",
       "161      2      Q1  2021  Iqbal Town  Pakistan  Corolla  11100000\n",
       "162      2      Q1  2021     Gulshan  Pakistan   Cultus   6300000\n",
       "163      2      Q1  2021     Gulshan  Pakistan    Swift   8400000\n",
       "164      2      Q1  2021   Latifabad  Pakistan     Aqua   7500000"
      ]
     },
     "execution_count": 36,
     "metadata": {},
     "output_type": "execute_result"
    }
   ],
   "source": [
    "revenue[(revenue['year'] ==2021) & (revenue['month'] == 2)].head()"
   ]
  },
  {
   "cell_type": "markdown",
   "metadata": {
    "id": "FTlde32wdNoL"
   },
   "source": [
    "# Drilldown\n",
    "is the reverse of \"rollup\" and applying an aggregation function to a finer level of granularity. For example, we want to focus in the annual and monthly revenue for each product and collapse the location dimension (ie: we don't care where we sold our product).\n",
    "\n",
    "In drill-down operation, the less detailed data is converted into highly detailed data. \n",
    "It can be done by:\n",
    "▪ Moving down in the concept hierarchy\n",
    "▪ Adding a new dimension"
   ]
  },
  {
   "cell_type": "code",
   "execution_count": 37,
   "metadata": {
    "colab": {
     "base_uri": "https://localhost:8080/",
     "height": 143
    },
    "id": "O3_qwiSVJn0D",
    "outputId": "ea680355-c0a0-4aef-f7a3-14e65f855681"
   },
   "outputs": [
    {
     "data": {
      "text/html": [
       "<div>\n",
       "<style scoped>\n",
       "    .dataframe tbody tr th:only-of-type {\n",
       "        vertical-align: middle;\n",
       "    }\n",
       "\n",
       "    .dataframe tbody tr th {\n",
       "        vertical-align: top;\n",
       "    }\n",
       "\n",
       "    .dataframe thead th {\n",
       "        text-align: right;\n",
       "    }\n",
       "</style>\n",
       "<table border=\"1\" class=\"dataframe\">\n",
       "  <thead>\n",
       "    <tr style=\"text-align: right;\">\n",
       "      <th></th>\n",
       "      <th>amount</th>\n",
       "    </tr>\n",
       "    <tr>\n",
       "      <th>year</th>\n",
       "      <th></th>\n",
       "    </tr>\n",
       "  </thead>\n",
       "  <tbody>\n",
       "    <tr>\n",
       "      <th>2020</th>\n",
       "      <td>240000000</td>\n",
       "    </tr>\n",
       "    <tr>\n",
       "      <th>2021</th>\n",
       "      <td>232500000</td>\n",
       "    </tr>\n",
       "    <tr>\n",
       "      <th>2022</th>\n",
       "      <td>372500000</td>\n",
       "    </tr>\n",
       "  </tbody>\n",
       "</table>\n",
       "</div>"
      ],
      "text/plain": [
       "         amount\n",
       "year           \n",
       "2020  240000000\n",
       "2021  232500000\n",
       "2022  372500000"
      ]
     },
     "execution_count": 37,
     "metadata": {},
     "output_type": "execute_result"
    }
   ],
   "source": [
    "revenues = revenue[revenue['Car'] == 'Aqua']\n",
    "revenues.groupby(['year']).sum().drop(['month'],axis=1)"
   ]
  },
  {
   "cell_type": "markdown",
   "metadata": {
    "id": "ssiLDVUudVYL"
   },
   "source": [
    "# Pivot\n",
    "is about analyzing the combination of a pair of selected dimensions. For example, we want to analyze the revenue by year and month. Or we want to analyze the revenue by product and location.\n",
    "\n",
    "It is also known as rotation operation as it rotates the current view to get a new view of the \n",
    "representation"
   ]
  },
  {
   "cell_type": "code",
   "execution_count": 38,
   "metadata": {
    "colab": {
     "base_uri": "https://localhost:8080/",
     "height": 175
    },
    "id": "qcGwaHRjJqc9",
    "outputId": "9dafbc9f-11d6-418a-f374-65de32b78f0f"
   },
   "outputs": [
    {
     "data": {
      "text/html": [
       "<div>\n",
       "<style scoped>\n",
       "    .dataframe tbody tr th:only-of-type {\n",
       "        vertical-align: middle;\n",
       "    }\n",
       "\n",
       "    .dataframe tbody tr th {\n",
       "        vertical-align: top;\n",
       "    }\n",
       "\n",
       "    .dataframe thead th {\n",
       "        text-align: right;\n",
       "    }\n",
       "</style>\n",
       "<table border=\"1\" class=\"dataframe\">\n",
       "  <thead>\n",
       "    <tr style=\"text-align: right;\">\n",
       "      <th>location</th>\n",
       "      <th>AX</th>\n",
       "      <th>Gahli</th>\n",
       "      <th>Gulshan</th>\n",
       "      <th>Iqbal Town</th>\n",
       "      <th>Latifabad</th>\n",
       "      <th>Ny</th>\n",
       "      <th>Road</th>\n",
       "    </tr>\n",
       "    <tr>\n",
       "      <th>Car</th>\n",
       "      <th></th>\n",
       "      <th></th>\n",
       "      <th></th>\n",
       "      <th></th>\n",
       "      <th></th>\n",
       "      <th></th>\n",
       "      <th></th>\n",
       "    </tr>\n",
       "  </thead>\n",
       "  <tbody>\n",
       "    <tr>\n",
       "      <th>Aqua</th>\n",
       "      <td>6.250000e+06</td>\n",
       "      <td>6.351351e+06</td>\n",
       "      <td>5.555556e+06</td>\n",
       "      <td>5.810811e+06</td>\n",
       "      <td>6.145833e+06</td>\n",
       "      <td>6.071429e+06</td>\n",
       "      <td>6.111111e+06</td>\n",
       "    </tr>\n",
       "    <tr>\n",
       "      <th>CIVIC</th>\n",
       "      <td>1.260000e+07</td>\n",
       "      <td>1.066154e+07</td>\n",
       "      <td>8.400000e+06</td>\n",
       "      <td>1.260000e+07</td>\n",
       "      <td>1.120000e+07</td>\n",
       "      <td>1.260000e+07</td>\n",
       "      <td>1.260000e+07</td>\n",
       "    </tr>\n",
       "    <tr>\n",
       "      <th>Corolla</th>\n",
       "      <td>1.110000e+07</td>\n",
       "      <td>9.596875e+06</td>\n",
       "      <td>1.048333e+07</td>\n",
       "      <td>9.514286e+06</td>\n",
       "      <td>1.060667e+07</td>\n",
       "      <td>1.110000e+07</td>\n",
       "      <td>9.620000e+06</td>\n",
       "    </tr>\n",
       "    <tr>\n",
       "      <th>Cultus</th>\n",
       "      <td>4.200000e+06</td>\n",
       "      <td>5.311765e+06</td>\n",
       "      <td>5.600000e+06</td>\n",
       "      <td>5.415789e+06</td>\n",
       "      <td>4.846154e+06</td>\n",
       "      <td>5.775000e+06</td>\n",
       "      <td>2.100000e+06</td>\n",
       "    </tr>\n",
       "    <tr>\n",
       "      <th>Swift</th>\n",
       "      <td>6.872727e+06</td>\n",
       "      <td>6.855172e+06</td>\n",
       "      <td>6.676923e+06</td>\n",
       "      <td>6.565517e+06</td>\n",
       "      <td>7.466667e+06</td>\n",
       "      <td>7.866667e+06</td>\n",
       "      <td>7.400000e+06</td>\n",
       "    </tr>\n",
       "  </tbody>\n",
       "</table>\n",
       "</div>"
      ],
      "text/plain": [
       "location            AX         Gahli       Gulshan    Iqbal Town  \\\n",
       "Car                                                                \n",
       "Aqua      6.250000e+06  6.351351e+06  5.555556e+06  5.810811e+06   \n",
       "CIVIC     1.260000e+07  1.066154e+07  8.400000e+06  1.260000e+07   \n",
       "Corolla   1.110000e+07  9.596875e+06  1.048333e+07  9.514286e+06   \n",
       "Cultus    4.200000e+06  5.311765e+06  5.600000e+06  5.415789e+06   \n",
       "Swift     6.872727e+06  6.855172e+06  6.676923e+06  6.565517e+06   \n",
       "\n",
       "location     Latifabad            Ny          Road  \n",
       "Car                                                 \n",
       "Aqua      6.145833e+06  6.071429e+06  6.111111e+06  \n",
       "CIVIC     1.120000e+07  1.260000e+07  1.260000e+07  \n",
       "Corolla   1.060667e+07  1.110000e+07  9.620000e+06  \n",
       "Cultus    4.846154e+06  5.775000e+06  2.100000e+06  \n",
       "Swift     7.466667e+06  7.866667e+06  7.400000e+06  "
      ]
     },
     "execution_count": 38,
     "metadata": {},
     "output_type": "execute_result"
    }
   ],
   "source": [
    "revenue.pivot_table(index='Car',columns='location',values='amount')"
   ]
  },
  {
   "cell_type": "markdown",
   "metadata": {},
   "source": [
    "#    --------------------------------------------------------------------------------------------------------"
   ]
  },
  {
   "cell_type": "code",
   "execution_count": null,
   "metadata": {},
   "outputs": [],
   "source": []
  },
  {
   "cell_type": "code",
   "execution_count": null,
   "metadata": {},
   "outputs": [],
   "source": []
  }
 ],
 "metadata": {
  "colab": {
   "name": "Untitled12.ipynb",
   "provenance": []
  },
  "kernelspec": {
   "display_name": "Python 3 (ipykernel)",
   "language": "python",
   "name": "python3"
  },
  "language_info": {
   "codemirror_mode": {
    "name": "ipython",
    "version": 3
   },
   "file_extension": ".py",
   "mimetype": "text/x-python",
   "name": "python",
   "nbconvert_exporter": "python",
   "pygments_lexer": "ipython3",
   "version": "3.9.7"
  }
 },
 "nbformat": 4,
 "nbformat_minor": 1
}
