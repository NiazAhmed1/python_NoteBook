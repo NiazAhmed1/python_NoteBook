{
 "cells": [
  {
   "cell_type": "markdown",
   "id": "326dfa1e",
   "metadata": {},
   "source": [
    "# ----------------------------- DATA CLEANING ----------------------------------"
   ]
  },
  {
   "cell_type": "markdown",
   "id": "2a72512f",
   "metadata": {},
   "source": [
    "DataSets\n",
    "https://drive.google.com/file/d/17CocX41hBN489lCkHaVuBE9vla0025xw/view?usp=share_link"
   ]
  },
  {
   "cell_type": "markdown",
   "id": "de5ba49a",
   "metadata": {},
   "source": [
    "# TRANSECTION DATASET \n",
    "Transaction dataset contain the all information of Transaction of a product such as transection id, product_id, customer_id, order status, price, product_first_sold_date etc. this dataset contain alot of missing values it our task to clean this dataset into meaning full dataset."
   ]
  },
  {
   "cell_type": "code",
   "execution_count": null,
   "id": "dde0f203",
   "metadata": {},
   "outputs": [],
   "source": []
  },
  {
   "cell_type": "code",
   "execution_count": 371,
   "id": "87ea14d7",
   "metadata": {},
   "outputs": [
    {
     "name": "stdout",
     "output_type": "stream",
     "text": [
      "<class 'pandas.core.frame.DataFrame'>\n",
      "RangeIndex: 20000 entries, 0 to 19999\n",
      "Data columns (total 12 columns):\n",
      " #   Column                   Non-Null Count  Dtype  \n",
      "---  ------                   --------------  -----  \n",
      " 0   transaction_id           20000 non-null  int64  \n",
      " 1   product_id               20000 non-null  int64  \n",
      " 2   customer_id              20000 non-null  int64  \n",
      " 3   transaction_date         20000 non-null  object \n",
      " 4   online_order             19640 non-null  object \n",
      " 5   order_status             20000 non-null  object \n",
      " 6   brand                    19803 non-null  object \n",
      " 7   product_line             19803 non-null  object \n",
      " 8   product_class            19803 non-null  object \n",
      " 9   product_size             19803 non-null  object \n",
      " 10  list_price               20000 non-null  float64\n",
      " 11  product_first_sold_date  19803 non-null  float64\n",
      "dtypes: float64(2), int64(3), object(7)\n",
      "memory usage: 1.8+ MB\n"
     ]
    }
   ],
   "source": [
    "#Read data set\n",
    "import pandas as pd  \n",
    "import numpy as np   \n",
    "import sklearn as sk  \n",
    "\n",
    "DataSet =pd.read_csv('Transection.csv')\n",
    "DataSet.info()\n"
   ]
  },
  {
   "cell_type": "code",
   "execution_count": 372,
   "id": "d248bd7c",
   "metadata": {},
   "outputs": [
    {
     "data": {
      "text/html": [
       "<div>\n",
       "<style scoped>\n",
       "    .dataframe tbody tr th:only-of-type {\n",
       "        vertical-align: middle;\n",
       "    }\n",
       "\n",
       "    .dataframe tbody tr th {\n",
       "        vertical-align: top;\n",
       "    }\n",
       "\n",
       "    .dataframe thead th {\n",
       "        text-align: right;\n",
       "    }\n",
       "</style>\n",
       "<table border=\"1\" class=\"dataframe\">\n",
       "  <thead>\n",
       "    <tr style=\"text-align: right;\">\n",
       "      <th></th>\n",
       "      <th>transaction_id</th>\n",
       "      <th>product_id</th>\n",
       "      <th>customer_id</th>\n",
       "      <th>transaction_date</th>\n",
       "      <th>online_order</th>\n",
       "      <th>order_status</th>\n",
       "      <th>brand</th>\n",
       "      <th>product_line</th>\n",
       "      <th>product_class</th>\n",
       "      <th>product_size</th>\n",
       "      <th>list_price</th>\n",
       "      <th>product_first_sold_date</th>\n",
       "    </tr>\n",
       "  </thead>\n",
       "  <tbody>\n",
       "    <tr>\n",
       "      <th>0</th>\n",
       "      <td>1</td>\n",
       "      <td>2</td>\n",
       "      <td>2950</td>\n",
       "      <td>25/02/2017</td>\n",
       "      <td>False</td>\n",
       "      <td>Approved</td>\n",
       "      <td>Solex</td>\n",
       "      <td>Standard</td>\n",
       "      <td>medium</td>\n",
       "      <td>medium</td>\n",
       "      <td>71.49</td>\n",
       "      <td>41245.0</td>\n",
       "    </tr>\n",
       "    <tr>\n",
       "      <th>1</th>\n",
       "      <td>2</td>\n",
       "      <td>3</td>\n",
       "      <td>3120</td>\n",
       "      <td>21/05/2017</td>\n",
       "      <td>True</td>\n",
       "      <td>Approved</td>\n",
       "      <td>Trek Bicycles</td>\n",
       "      <td>Standard</td>\n",
       "      <td>medium</td>\n",
       "      <td>large</td>\n",
       "      <td>2091.47</td>\n",
       "      <td>41701.0</td>\n",
       "    </tr>\n",
       "    <tr>\n",
       "      <th>2</th>\n",
       "      <td>3</td>\n",
       "      <td>37</td>\n",
       "      <td>402</td>\n",
       "      <td>16/10/2017</td>\n",
       "      <td>False</td>\n",
       "      <td>Approved</td>\n",
       "      <td>OHM Cycles</td>\n",
       "      <td>Standard</td>\n",
       "      <td>low</td>\n",
       "      <td>medium</td>\n",
       "      <td>1793.43</td>\n",
       "      <td>36361.0</td>\n",
       "    </tr>\n",
       "    <tr>\n",
       "      <th>3</th>\n",
       "      <td>4</td>\n",
       "      <td>88</td>\n",
       "      <td>3135</td>\n",
       "      <td>31/08/2017</td>\n",
       "      <td>False</td>\n",
       "      <td>Approved</td>\n",
       "      <td>Norco Bicycles</td>\n",
       "      <td>Standard</td>\n",
       "      <td>medium</td>\n",
       "      <td>medium</td>\n",
       "      <td>1198.46</td>\n",
       "      <td>36145.0</td>\n",
       "    </tr>\n",
       "    <tr>\n",
       "      <th>4</th>\n",
       "      <td>5</td>\n",
       "      <td>78</td>\n",
       "      <td>787</td>\n",
       "      <td>01/10/2017</td>\n",
       "      <td>True</td>\n",
       "      <td>Approved</td>\n",
       "      <td>Giant Bicycles</td>\n",
       "      <td>Standard</td>\n",
       "      <td>medium</td>\n",
       "      <td>large</td>\n",
       "      <td>1765.30</td>\n",
       "      <td>42226.0</td>\n",
       "    </tr>\n",
       "  </tbody>\n",
       "</table>\n",
       "</div>"
      ],
      "text/plain": [
       "   transaction_id  product_id  customer_id transaction_date online_order  \\\n",
       "0               1           2         2950       25/02/2017        False   \n",
       "1               2           3         3120       21/05/2017         True   \n",
       "2               3          37          402       16/10/2017        False   \n",
       "3               4          88         3135       31/08/2017        False   \n",
       "4               5          78          787       01/10/2017         True   \n",
       "\n",
       "  order_status           brand product_line product_class product_size  \\\n",
       "0     Approved           Solex     Standard        medium       medium   \n",
       "1     Approved   Trek Bicycles     Standard        medium        large   \n",
       "2     Approved      OHM Cycles     Standard           low       medium   \n",
       "3     Approved  Norco Bicycles     Standard        medium       medium   \n",
       "4     Approved  Giant Bicycles     Standard        medium        large   \n",
       "\n",
       "   list_price  product_first_sold_date  \n",
       "0       71.49                  41245.0  \n",
       "1     2091.47                  41701.0  \n",
       "2     1793.43                  36361.0  \n",
       "3     1198.46                  36145.0  \n",
       "4     1765.30                  42226.0  "
      ]
     },
     "execution_count": 372,
     "metadata": {},
     "output_type": "execute_result"
    }
   ],
   "source": [
    "#print some starting rows of dataset\n",
    "DataSet.head()"
   ]
  },
  {
   "cell_type": "code",
   "execution_count": 373,
   "id": "11065185",
   "metadata": {},
   "outputs": [],
   "source": [
    "DS=DataSet"
   ]
  },
  {
   "cell_type": "code",
   "execution_count": 374,
   "id": "d8af4590",
   "metadata": {},
   "outputs": [
    {
     "data": {
      "text/html": [
       "<div>\n",
       "<style scoped>\n",
       "    .dataframe tbody tr th:only-of-type {\n",
       "        vertical-align: middle;\n",
       "    }\n",
       "\n",
       "    .dataframe tbody tr th {\n",
       "        vertical-align: top;\n",
       "    }\n",
       "\n",
       "    .dataframe thead th {\n",
       "        text-align: right;\n",
       "    }\n",
       "</style>\n",
       "<table border=\"1\" class=\"dataframe\">\n",
       "  <thead>\n",
       "    <tr style=\"text-align: right;\">\n",
       "      <th></th>\n",
       "      <th>transaction_id</th>\n",
       "      <th>product_id</th>\n",
       "      <th>customer_id</th>\n",
       "      <th>transaction_date</th>\n",
       "      <th>online_order</th>\n",
       "      <th>order_status</th>\n",
       "      <th>brand</th>\n",
       "      <th>product_line</th>\n",
       "      <th>product_class</th>\n",
       "      <th>product_size</th>\n",
       "      <th>list_price</th>\n",
       "      <th>product_first_sold_date</th>\n",
       "    </tr>\n",
       "  </thead>\n",
       "  <tbody>\n",
       "    <tr>\n",
       "      <th>0</th>\n",
       "      <td>1</td>\n",
       "      <td>2</td>\n",
       "      <td>2950</td>\n",
       "      <td>25/02/2017</td>\n",
       "      <td>False</td>\n",
       "      <td>Approved</td>\n",
       "      <td>Solex</td>\n",
       "      <td>Standard</td>\n",
       "      <td>medium</td>\n",
       "      <td>medium</td>\n",
       "      <td>71.49</td>\n",
       "      <td>41245.0</td>\n",
       "    </tr>\n",
       "    <tr>\n",
       "      <th>1</th>\n",
       "      <td>2</td>\n",
       "      <td>3</td>\n",
       "      <td>3120</td>\n",
       "      <td>21/05/2017</td>\n",
       "      <td>True</td>\n",
       "      <td>Approved</td>\n",
       "      <td>Trek Bicycles</td>\n",
       "      <td>Standard</td>\n",
       "      <td>medium</td>\n",
       "      <td>large</td>\n",
       "      <td>2091.47</td>\n",
       "      <td>41701.0</td>\n",
       "    </tr>\n",
       "    <tr>\n",
       "      <th>2</th>\n",
       "      <td>3</td>\n",
       "      <td>37</td>\n",
       "      <td>402</td>\n",
       "      <td>16/10/2017</td>\n",
       "      <td>False</td>\n",
       "      <td>Approved</td>\n",
       "      <td>OHM Cycles</td>\n",
       "      <td>Standard</td>\n",
       "      <td>low</td>\n",
       "      <td>medium</td>\n",
       "      <td>1793.43</td>\n",
       "      <td>36361.0</td>\n",
       "    </tr>\n",
       "    <tr>\n",
       "      <th>3</th>\n",
       "      <td>4</td>\n",
       "      <td>88</td>\n",
       "      <td>3135</td>\n",
       "      <td>31/08/2017</td>\n",
       "      <td>False</td>\n",
       "      <td>Approved</td>\n",
       "      <td>Norco Bicycles</td>\n",
       "      <td>Standard</td>\n",
       "      <td>medium</td>\n",
       "      <td>medium</td>\n",
       "      <td>1198.46</td>\n",
       "      <td>36145.0</td>\n",
       "    </tr>\n",
       "    <tr>\n",
       "      <th>4</th>\n",
       "      <td>5</td>\n",
       "      <td>78</td>\n",
       "      <td>787</td>\n",
       "      <td>01/10/2017</td>\n",
       "      <td>True</td>\n",
       "      <td>Approved</td>\n",
       "      <td>Giant Bicycles</td>\n",
       "      <td>Standard</td>\n",
       "      <td>medium</td>\n",
       "      <td>large</td>\n",
       "      <td>1765.30</td>\n",
       "      <td>42226.0</td>\n",
       "    </tr>\n",
       "    <tr>\n",
       "      <th>5</th>\n",
       "      <td>6</td>\n",
       "      <td>25</td>\n",
       "      <td>2339</td>\n",
       "      <td>08/03/2017</td>\n",
       "      <td>True</td>\n",
       "      <td>Approved</td>\n",
       "      <td>Giant Bicycles</td>\n",
       "      <td>Road</td>\n",
       "      <td>medium</td>\n",
       "      <td>medium</td>\n",
       "      <td>1538.99</td>\n",
       "      <td>39031.0</td>\n",
       "    </tr>\n",
       "    <tr>\n",
       "      <th>6</th>\n",
       "      <td>7</td>\n",
       "      <td>22</td>\n",
       "      <td>1542</td>\n",
       "      <td>21/04/2017</td>\n",
       "      <td>True</td>\n",
       "      <td>Approved</td>\n",
       "      <td>WeareA2B</td>\n",
       "      <td>Standard</td>\n",
       "      <td>medium</td>\n",
       "      <td>medium</td>\n",
       "      <td>60.34</td>\n",
       "      <td>34165.0</td>\n",
       "    </tr>\n",
       "    <tr>\n",
       "      <th>7</th>\n",
       "      <td>8</td>\n",
       "      <td>15</td>\n",
       "      <td>2459</td>\n",
       "      <td>15/07/2017</td>\n",
       "      <td>False</td>\n",
       "      <td>Approved</td>\n",
       "      <td>WeareA2B</td>\n",
       "      <td>Standard</td>\n",
       "      <td>medium</td>\n",
       "      <td>medium</td>\n",
       "      <td>1292.84</td>\n",
       "      <td>39915.0</td>\n",
       "    </tr>\n",
       "    <tr>\n",
       "      <th>8</th>\n",
       "      <td>9</td>\n",
       "      <td>67</td>\n",
       "      <td>1305</td>\n",
       "      <td>10/08/2017</td>\n",
       "      <td>False</td>\n",
       "      <td>Approved</td>\n",
       "      <td>Solex</td>\n",
       "      <td>Standard</td>\n",
       "      <td>medium</td>\n",
       "      <td>large</td>\n",
       "      <td>1071.23</td>\n",
       "      <td>33455.0</td>\n",
       "    </tr>\n",
       "    <tr>\n",
       "      <th>9</th>\n",
       "      <td>10</td>\n",
       "      <td>12</td>\n",
       "      <td>3262</td>\n",
       "      <td>30/08/2017</td>\n",
       "      <td>True</td>\n",
       "      <td>Approved</td>\n",
       "      <td>WeareA2B</td>\n",
       "      <td>Standard</td>\n",
       "      <td>medium</td>\n",
       "      <td>medium</td>\n",
       "      <td>1231.15</td>\n",
       "      <td>38216.0</td>\n",
       "    </tr>\n",
       "    <tr>\n",
       "      <th>10</th>\n",
       "      <td>11</td>\n",
       "      <td>5</td>\n",
       "      <td>1986</td>\n",
       "      <td>17/01/2017</td>\n",
       "      <td>False</td>\n",
       "      <td>Approved</td>\n",
       "      <td>Trek Bicycles</td>\n",
       "      <td>Mountain</td>\n",
       "      <td>low</td>\n",
       "      <td>medium</td>\n",
       "      <td>574.64</td>\n",
       "      <td>40784.0</td>\n",
       "    </tr>\n",
       "    <tr>\n",
       "      <th>11</th>\n",
       "      <td>12</td>\n",
       "      <td>61</td>\n",
       "      <td>2783</td>\n",
       "      <td>05/01/2017</td>\n",
       "      <td>True</td>\n",
       "      <td>Approved</td>\n",
       "      <td>OHM Cycles</td>\n",
       "      <td>Standard</td>\n",
       "      <td>low</td>\n",
       "      <td>medium</td>\n",
       "      <td>71.16</td>\n",
       "      <td>42172.0</td>\n",
       "    </tr>\n",
       "    <tr>\n",
       "      <th>12</th>\n",
       "      <td>13</td>\n",
       "      <td>35</td>\n",
       "      <td>1243</td>\n",
       "      <td>26/02/2017</td>\n",
       "      <td>True</td>\n",
       "      <td>Approved</td>\n",
       "      <td>Trek Bicycles</td>\n",
       "      <td>Standard</td>\n",
       "      <td>low</td>\n",
       "      <td>medium</td>\n",
       "      <td>1057.51</td>\n",
       "      <td>34527.0</td>\n",
       "    </tr>\n",
       "    <tr>\n",
       "      <th>13</th>\n",
       "      <td>14</td>\n",
       "      <td>16</td>\n",
       "      <td>2717</td>\n",
       "      <td>10/09/2017</td>\n",
       "      <td>False</td>\n",
       "      <td>Approved</td>\n",
       "      <td>Norco Bicycles</td>\n",
       "      <td>Standard</td>\n",
       "      <td>high</td>\n",
       "      <td>small</td>\n",
       "      <td>1661.92</td>\n",
       "      <td>34586.0</td>\n",
       "    </tr>\n",
       "    <tr>\n",
       "      <th>14</th>\n",
       "      <td>15</td>\n",
       "      <td>12</td>\n",
       "      <td>247</td>\n",
       "      <td>11/06/2017</td>\n",
       "      <td>False</td>\n",
       "      <td>Approved</td>\n",
       "      <td>Giant Bicycles</td>\n",
       "      <td>Standard</td>\n",
       "      <td>medium</td>\n",
       "      <td>large</td>\n",
       "      <td>1765.30</td>\n",
       "      <td>38193.0</td>\n",
       "    </tr>\n",
       "  </tbody>\n",
       "</table>\n",
       "</div>"
      ],
      "text/plain": [
       "    transaction_id  product_id  customer_id transaction_date online_order  \\\n",
       "0                1           2         2950       25/02/2017        False   \n",
       "1                2           3         3120       21/05/2017         True   \n",
       "2                3          37          402       16/10/2017        False   \n",
       "3                4          88         3135       31/08/2017        False   \n",
       "4                5          78          787       01/10/2017         True   \n",
       "5                6          25         2339       08/03/2017         True   \n",
       "6                7          22         1542       21/04/2017         True   \n",
       "7                8          15         2459       15/07/2017        False   \n",
       "8                9          67         1305       10/08/2017        False   \n",
       "9               10          12         3262       30/08/2017         True   \n",
       "10              11           5         1986       17/01/2017        False   \n",
       "11              12          61         2783       05/01/2017         True   \n",
       "12              13          35         1243       26/02/2017         True   \n",
       "13              14          16         2717       10/09/2017        False   \n",
       "14              15          12          247       11/06/2017        False   \n",
       "\n",
       "   order_status           brand product_line product_class product_size  \\\n",
       "0      Approved           Solex     Standard        medium       medium   \n",
       "1      Approved   Trek Bicycles     Standard        medium        large   \n",
       "2      Approved      OHM Cycles     Standard           low       medium   \n",
       "3      Approved  Norco Bicycles     Standard        medium       medium   \n",
       "4      Approved  Giant Bicycles     Standard        medium        large   \n",
       "5      Approved  Giant Bicycles         Road        medium       medium   \n",
       "6      Approved        WeareA2B     Standard        medium       medium   \n",
       "7      Approved        WeareA2B     Standard        medium       medium   \n",
       "8      Approved           Solex     Standard        medium        large   \n",
       "9      Approved        WeareA2B     Standard        medium       medium   \n",
       "10     Approved   Trek Bicycles     Mountain           low       medium   \n",
       "11     Approved      OHM Cycles     Standard           low       medium   \n",
       "12     Approved   Trek Bicycles     Standard           low       medium   \n",
       "13     Approved  Norco Bicycles     Standard          high        small   \n",
       "14     Approved  Giant Bicycles     Standard        medium        large   \n",
       "\n",
       "    list_price  product_first_sold_date  \n",
       "0        71.49                  41245.0  \n",
       "1      2091.47                  41701.0  \n",
       "2      1793.43                  36361.0  \n",
       "3      1198.46                  36145.0  \n",
       "4      1765.30                  42226.0  \n",
       "5      1538.99                  39031.0  \n",
       "6        60.34                  34165.0  \n",
       "7      1292.84                  39915.0  \n",
       "8      1071.23                  33455.0  \n",
       "9      1231.15                  38216.0  \n",
       "10      574.64                  40784.0  \n",
       "11       71.16                  42172.0  \n",
       "12     1057.51                  34527.0  \n",
       "13     1661.92                  34586.0  \n",
       "14     1765.30                  38193.0  "
      ]
     },
     "execution_count": 374,
     "metadata": {},
     "output_type": "execute_result"
    }
   ],
   "source": [
    "DS.head(15)"
   ]
  },
  {
   "cell_type": "code",
   "execution_count": 375,
   "id": "ba6c976f",
   "metadata": {},
   "outputs": [
    {
     "data": {
      "text/html": [
       "<div>\n",
       "<style scoped>\n",
       "    .dataframe tbody tr th:only-of-type {\n",
       "        vertical-align: middle;\n",
       "    }\n",
       "\n",
       "    .dataframe tbody tr th {\n",
       "        vertical-align: top;\n",
       "    }\n",
       "\n",
       "    .dataframe thead th {\n",
       "        text-align: right;\n",
       "    }\n",
       "</style>\n",
       "<table border=\"1\" class=\"dataframe\">\n",
       "  <thead>\n",
       "    <tr style=\"text-align: right;\">\n",
       "      <th></th>\n",
       "      <th>transaction_id</th>\n",
       "      <th>product_id</th>\n",
       "      <th>customer_id</th>\n",
       "      <th>list_price</th>\n",
       "      <th>product_first_sold_date</th>\n",
       "    </tr>\n",
       "  </thead>\n",
       "  <tbody>\n",
       "    <tr>\n",
       "      <th>count</th>\n",
       "      <td>20000.000000</td>\n",
       "      <td>20000.00000</td>\n",
       "      <td>20000.000000</td>\n",
       "      <td>20000.000000</td>\n",
       "      <td>19803.000000</td>\n",
       "    </tr>\n",
       "    <tr>\n",
       "      <th>mean</th>\n",
       "      <td>10000.500000</td>\n",
       "      <td>45.36465</td>\n",
       "      <td>1738.246050</td>\n",
       "      <td>1107.829449</td>\n",
       "      <td>38199.776549</td>\n",
       "    </tr>\n",
       "    <tr>\n",
       "      <th>std</th>\n",
       "      <td>5773.647028</td>\n",
       "      <td>30.75359</td>\n",
       "      <td>1011.951046</td>\n",
       "      <td>582.825242</td>\n",
       "      <td>2875.201110</td>\n",
       "    </tr>\n",
       "    <tr>\n",
       "      <th>min</th>\n",
       "      <td>1.000000</td>\n",
       "      <td>0.00000</td>\n",
       "      <td>1.000000</td>\n",
       "      <td>12.010000</td>\n",
       "      <td>33259.000000</td>\n",
       "    </tr>\n",
       "    <tr>\n",
       "      <th>25%</th>\n",
       "      <td>5000.750000</td>\n",
       "      <td>18.00000</td>\n",
       "      <td>857.750000</td>\n",
       "      <td>575.270000</td>\n",
       "      <td>35667.000000</td>\n",
       "    </tr>\n",
       "    <tr>\n",
       "      <th>50%</th>\n",
       "      <td>10000.500000</td>\n",
       "      <td>44.00000</td>\n",
       "      <td>1736.000000</td>\n",
       "      <td>1163.890000</td>\n",
       "      <td>38216.000000</td>\n",
       "    </tr>\n",
       "    <tr>\n",
       "      <th>75%</th>\n",
       "      <td>15000.250000</td>\n",
       "      <td>72.00000</td>\n",
       "      <td>2613.000000</td>\n",
       "      <td>1635.300000</td>\n",
       "      <td>40672.000000</td>\n",
       "    </tr>\n",
       "    <tr>\n",
       "      <th>max</th>\n",
       "      <td>20000.000000</td>\n",
       "      <td>100.00000</td>\n",
       "      <td>5034.000000</td>\n",
       "      <td>2091.470000</td>\n",
       "      <td>42710.000000</td>\n",
       "    </tr>\n",
       "  </tbody>\n",
       "</table>\n",
       "</div>"
      ],
      "text/plain": [
       "       transaction_id   product_id   customer_id    list_price  \\\n",
       "count    20000.000000  20000.00000  20000.000000  20000.000000   \n",
       "mean     10000.500000     45.36465   1738.246050   1107.829449   \n",
       "std       5773.647028     30.75359   1011.951046    582.825242   \n",
       "min          1.000000      0.00000      1.000000     12.010000   \n",
       "25%       5000.750000     18.00000    857.750000    575.270000   \n",
       "50%      10000.500000     44.00000   1736.000000   1163.890000   \n",
       "75%      15000.250000     72.00000   2613.000000   1635.300000   \n",
       "max      20000.000000    100.00000   5034.000000   2091.470000   \n",
       "\n",
       "       product_first_sold_date  \n",
       "count             19803.000000  \n",
       "mean              38199.776549  \n",
       "std                2875.201110  \n",
       "min               33259.000000  \n",
       "25%               35667.000000  \n",
       "50%               38216.000000  \n",
       "75%               40672.000000  \n",
       "max               42710.000000  "
      ]
     },
     "execution_count": 375,
     "metadata": {},
     "output_type": "execute_result"
    }
   ],
   "source": [
    "#describe the dataset (retrive central tendancey of dataset )\n",
    "DS.describe()"
   ]
  },
  {
   "cell_type": "code",
   "execution_count": 376,
   "id": "078d8f45",
   "metadata": {},
   "outputs": [
    {
     "data": {
      "text/plain": [
       "transaction_id               0\n",
       "product_id                   0\n",
       "customer_id                  0\n",
       "transaction_date             0\n",
       "online_order               360\n",
       "order_status                 0\n",
       "brand                      197\n",
       "product_line               197\n",
       "product_class              197\n",
       "product_size               197\n",
       "list_price                   0\n",
       "product_first_sold_date    197\n",
       "dtype: int64"
      ]
     },
     "execution_count": 376,
     "metadata": {},
     "output_type": "execute_result"
    }
   ],
   "source": [
    "#Determine the null values of columns\n",
    "DS.isnull().sum()"
   ]
  },
  {
   "cell_type": "code",
   "execution_count": 377,
   "id": "6e4991ba",
   "metadata": {},
   "outputs": [
    {
     "data": {
      "text/plain": [
       "True     9829\n",
       "False    9811\n",
       "Name: online_order, dtype: int64"
      ]
     },
     "execution_count": 377,
     "metadata": {},
     "output_type": "execute_result"
    }
   ],
   "source": [
    "DS['online_order'].value_counts()"
   ]
  },
  {
   "cell_type": "code",
   "execution_count": 378,
   "id": "df9b6cca",
   "metadata": {},
   "outputs": [
    {
     "data": {
      "text/plain": [
       "1.0    9829\n",
       "0.0    9811\n",
       "Name: online_order, dtype: int64"
      ]
     },
     "execution_count": 378,
     "metadata": {},
     "output_type": "execute_result"
    }
   ],
   "source": [
    "#convert true and false into 0 and 1\n",
    "#True = 1\n",
    "#False = 0\n",
    "\n",
    "DS['online_order'].replace(\n",
    "    {\n",
    "        False: 0, True: 1\n",
    "    },    \n",
    "    inplace=True\n",
    ")\n",
    "\n",
    "DS['online_order'].value_counts()"
   ]
  },
  {
   "cell_type": "code",
   "execution_count": 379,
   "id": "4ff1bdd6",
   "metadata": {},
   "outputs": [
    {
     "data": {
      "text/plain": [
       "360"
      ]
     },
     "execution_count": 379,
     "metadata": {},
     "output_type": "execute_result"
    }
   ],
   "source": [
    "#calculate Null value of online_order\n",
    "DS['online_order'].isnull().sum()"
   ]
  },
  {
   "cell_type": "code",
   "execution_count": 380,
   "id": "f71886de",
   "metadata": {},
   "outputs": [
    {
     "data": {
      "text/plain": [
       "1.0    9829\n",
       "0.0    9811\n",
       "Name: online_order, dtype: int64"
      ]
     },
     "execution_count": 380,
     "metadata": {},
     "output_type": "execute_result"
    }
   ],
   "source": [
    "#Count number of values \n",
    "DS['online_order'].value_counts()"
   ]
  },
  {
   "cell_type": "code",
   "execution_count": 381,
   "id": "704d3fb2",
   "metadata": {},
   "outputs": [
    {
     "data": {
      "text/html": [
       "<div>\n",
       "<style scoped>\n",
       "    .dataframe tbody tr th:only-of-type {\n",
       "        vertical-align: middle;\n",
       "    }\n",
       "\n",
       "    .dataframe tbody tr th {\n",
       "        vertical-align: top;\n",
       "    }\n",
       "\n",
       "    .dataframe thead th {\n",
       "        text-align: right;\n",
       "    }\n",
       "</style>\n",
       "<table border=\"1\" class=\"dataframe\">\n",
       "  <thead>\n",
       "    <tr style=\"text-align: right;\">\n",
       "      <th></th>\n",
       "      <th>transaction_id</th>\n",
       "      <th>product_id</th>\n",
       "      <th>customer_id</th>\n",
       "      <th>transaction_date</th>\n",
       "      <th>online_order</th>\n",
       "      <th>order_status</th>\n",
       "      <th>brand</th>\n",
       "      <th>product_line</th>\n",
       "      <th>product_class</th>\n",
       "      <th>product_size</th>\n",
       "      <th>list_price</th>\n",
       "      <th>product_first_sold_date</th>\n",
       "    </tr>\n",
       "  </thead>\n",
       "  <tbody>\n",
       "    <tr>\n",
       "      <th>0</th>\n",
       "      <td>1</td>\n",
       "      <td>2</td>\n",
       "      <td>2950</td>\n",
       "      <td>25/02/2017</td>\n",
       "      <td>0.0</td>\n",
       "      <td>Approved</td>\n",
       "      <td>Solex</td>\n",
       "      <td>Standard</td>\n",
       "      <td>medium</td>\n",
       "      <td>medium</td>\n",
       "      <td>71.49</td>\n",
       "      <td>41245.0</td>\n",
       "    </tr>\n",
       "    <tr>\n",
       "      <th>1</th>\n",
       "      <td>2</td>\n",
       "      <td>3</td>\n",
       "      <td>3120</td>\n",
       "      <td>21/05/2017</td>\n",
       "      <td>1.0</td>\n",
       "      <td>Approved</td>\n",
       "      <td>Trek Bicycles</td>\n",
       "      <td>Standard</td>\n",
       "      <td>medium</td>\n",
       "      <td>large</td>\n",
       "      <td>2091.47</td>\n",
       "      <td>41701.0</td>\n",
       "    </tr>\n",
       "    <tr>\n",
       "      <th>2</th>\n",
       "      <td>3</td>\n",
       "      <td>37</td>\n",
       "      <td>402</td>\n",
       "      <td>16/10/2017</td>\n",
       "      <td>0.0</td>\n",
       "      <td>Approved</td>\n",
       "      <td>OHM Cycles</td>\n",
       "      <td>Standard</td>\n",
       "      <td>low</td>\n",
       "      <td>medium</td>\n",
       "      <td>1793.43</td>\n",
       "      <td>36361.0</td>\n",
       "    </tr>\n",
       "    <tr>\n",
       "      <th>3</th>\n",
       "      <td>4</td>\n",
       "      <td>88</td>\n",
       "      <td>3135</td>\n",
       "      <td>31/08/2017</td>\n",
       "      <td>0.0</td>\n",
       "      <td>Approved</td>\n",
       "      <td>Norco Bicycles</td>\n",
       "      <td>Standard</td>\n",
       "      <td>medium</td>\n",
       "      <td>medium</td>\n",
       "      <td>1198.46</td>\n",
       "      <td>36145.0</td>\n",
       "    </tr>\n",
       "    <tr>\n",
       "      <th>4</th>\n",
       "      <td>5</td>\n",
       "      <td>78</td>\n",
       "      <td>787</td>\n",
       "      <td>01/10/2017</td>\n",
       "      <td>1.0</td>\n",
       "      <td>Approved</td>\n",
       "      <td>Giant Bicycles</td>\n",
       "      <td>Standard</td>\n",
       "      <td>medium</td>\n",
       "      <td>large</td>\n",
       "      <td>1765.30</td>\n",
       "      <td>42226.0</td>\n",
       "    </tr>\n",
       "    <tr>\n",
       "      <th>...</th>\n",
       "      <td>...</td>\n",
       "      <td>...</td>\n",
       "      <td>...</td>\n",
       "      <td>...</td>\n",
       "      <td>...</td>\n",
       "      <td>...</td>\n",
       "      <td>...</td>\n",
       "      <td>...</td>\n",
       "      <td>...</td>\n",
       "      <td>...</td>\n",
       "      <td>...</td>\n",
       "      <td>...</td>\n",
       "    </tr>\n",
       "    <tr>\n",
       "      <th>95</th>\n",
       "      <td>96</td>\n",
       "      <td>1</td>\n",
       "      <td>1778</td>\n",
       "      <td>21/02/2017</td>\n",
       "      <td>0.0</td>\n",
       "      <td>Approved</td>\n",
       "      <td>Giant Bicycles</td>\n",
       "      <td>Standard</td>\n",
       "      <td>medium</td>\n",
       "      <td>medium</td>\n",
       "      <td>1403.50</td>\n",
       "      <td>40649.0</td>\n",
       "    </tr>\n",
       "    <tr>\n",
       "      <th>96</th>\n",
       "      <td>97</td>\n",
       "      <td>80</td>\n",
       "      <td>211</td>\n",
       "      <td>31/05/2017</td>\n",
       "      <td>1.0</td>\n",
       "      <td>Approved</td>\n",
       "      <td>OHM Cycles</td>\n",
       "      <td>Touring</td>\n",
       "      <td>low</td>\n",
       "      <td>medium</td>\n",
       "      <td>1073.07</td>\n",
       "      <td>38339.0</td>\n",
       "    </tr>\n",
       "    <tr>\n",
       "      <th>97</th>\n",
       "      <td>98</td>\n",
       "      <td>49</td>\n",
       "      <td>333</td>\n",
       "      <td>23/06/2017</td>\n",
       "      <td>NaN</td>\n",
       "      <td>Approved</td>\n",
       "      <td>Trek Bicycles</td>\n",
       "      <td>Road</td>\n",
       "      <td>medium</td>\n",
       "      <td>medium</td>\n",
       "      <td>533.51</td>\n",
       "      <td>37823.0</td>\n",
       "    </tr>\n",
       "    <tr>\n",
       "      <th>98</th>\n",
       "      <td>99</td>\n",
       "      <td>95</td>\n",
       "      <td>32</td>\n",
       "      <td>26/03/2017</td>\n",
       "      <td>0.0</td>\n",
       "      <td>Approved</td>\n",
       "      <td>Giant Bicycles</td>\n",
       "      <td>Standard</td>\n",
       "      <td>medium</td>\n",
       "      <td>large</td>\n",
       "      <td>569.56</td>\n",
       "      <td>37874.0</td>\n",
       "    </tr>\n",
       "    <tr>\n",
       "      <th>99</th>\n",
       "      <td>100</td>\n",
       "      <td>0</td>\n",
       "      <td>119</td>\n",
       "      <td>31/07/2017</td>\n",
       "      <td>0.0</td>\n",
       "      <td>Approved</td>\n",
       "      <td>Solex</td>\n",
       "      <td>Standard</td>\n",
       "      <td>medium</td>\n",
       "      <td>medium</td>\n",
       "      <td>478.16</td>\n",
       "      <td>36146.0</td>\n",
       "    </tr>\n",
       "  </tbody>\n",
       "</table>\n",
       "<p>100 rows × 12 columns</p>\n",
       "</div>"
      ],
      "text/plain": [
       "    transaction_id  product_id  customer_id transaction_date  online_order  \\\n",
       "0                1           2         2950       25/02/2017           0.0   \n",
       "1                2           3         3120       21/05/2017           1.0   \n",
       "2                3          37          402       16/10/2017           0.0   \n",
       "3                4          88         3135       31/08/2017           0.0   \n",
       "4                5          78          787       01/10/2017           1.0   \n",
       "..             ...         ...          ...              ...           ...   \n",
       "95              96           1         1778       21/02/2017           0.0   \n",
       "96              97          80          211       31/05/2017           1.0   \n",
       "97              98          49          333       23/06/2017           NaN   \n",
       "98              99          95           32       26/03/2017           0.0   \n",
       "99             100           0          119       31/07/2017           0.0   \n",
       "\n",
       "   order_status           brand product_line product_class product_size  \\\n",
       "0      Approved           Solex     Standard        medium       medium   \n",
       "1      Approved   Trek Bicycles     Standard        medium        large   \n",
       "2      Approved      OHM Cycles     Standard           low       medium   \n",
       "3      Approved  Norco Bicycles     Standard        medium       medium   \n",
       "4      Approved  Giant Bicycles     Standard        medium        large   \n",
       "..          ...             ...          ...           ...          ...   \n",
       "95     Approved  Giant Bicycles     Standard        medium       medium   \n",
       "96     Approved      OHM Cycles      Touring           low       medium   \n",
       "97     Approved   Trek Bicycles         Road        medium       medium   \n",
       "98     Approved  Giant Bicycles     Standard        medium        large   \n",
       "99     Approved           Solex     Standard        medium       medium   \n",
       "\n",
       "    list_price  product_first_sold_date  \n",
       "0        71.49                  41245.0  \n",
       "1      2091.47                  41701.0  \n",
       "2      1793.43                  36361.0  \n",
       "3      1198.46                  36145.0  \n",
       "4      1765.30                  42226.0  \n",
       "..         ...                      ...  \n",
       "95     1403.50                  40649.0  \n",
       "96     1073.07                  38339.0  \n",
       "97      533.51                  37823.0  \n",
       "98      569.56                  37874.0  \n",
       "99      478.16                  36146.0  \n",
       "\n",
       "[100 rows x 12 columns]"
      ]
     },
     "execution_count": 381,
     "metadata": {},
     "output_type": "execute_result"
    }
   ],
   "source": [
    "DS.head(100)"
   ]
  },
  {
   "cell_type": "code",
   "execution_count": 382,
   "id": "9a598337",
   "metadata": {},
   "outputs": [],
   "source": [
    "#fill the missing value of online_order column\n",
    "\n",
    "\n",
    "\"\"\"\n",
    "we use fillna method to fill missing value of online_order \n",
    "because as you can see that the online_order contain Nominal data and \n",
    "when we count the number of True/False value then the ratio of both True/False are approximately equal and \n",
    "when we analysis the data you can observe  that the most of false or True come in groups. \n",
    "So, I fill this value by fillna method. \n",
    "because When users don’t pass any value then fillna method fills the place with value in the Forward index\n",
    "or Previous index based on the value passed in the method parameter.\n",
    "I fill these places with forward index but you can also fill it backward index.\n",
    "\n",
    "\"\"\"\n",
    "DS['online_order']=DS['online_order'].fillna(method='ffill')"
   ]
  },
  {
   "cell_type": "code",
   "execution_count": 383,
   "id": "ff167d95",
   "metadata": {},
   "outputs": [
    {
     "data": {
      "text/plain": [
       "0"
      ]
     },
     "execution_count": 383,
     "metadata": {},
     "output_type": "execute_result"
    }
   ],
   "source": [
    "#to check the null value of online_order\n",
    "DS['online_order'].isnull().sum()"
   ]
  },
  {
   "cell_type": "code",
   "execution_count": 384,
   "id": "7e90ebd4",
   "metadata": {},
   "outputs": [
    {
     "name": "stdout",
     "output_type": "stream",
     "text": [
      "<class 'pandas.core.frame.DataFrame'>\n",
      "RangeIndex: 20000 entries, 0 to 19999\n",
      "Data columns (total 12 columns):\n",
      " #   Column                   Non-Null Count  Dtype  \n",
      "---  ------                   --------------  -----  \n",
      " 0   transaction_id           20000 non-null  int64  \n",
      " 1   product_id               20000 non-null  int64  \n",
      " 2   customer_id              20000 non-null  int64  \n",
      " 3   transaction_date         20000 non-null  object \n",
      " 4   online_order             20000 non-null  float64\n",
      " 5   order_status             20000 non-null  object \n",
      " 6   brand                    19803 non-null  object \n",
      " 7   product_line             19803 non-null  object \n",
      " 8   product_class            19803 non-null  object \n",
      " 9   product_size             19803 non-null  object \n",
      " 10  list_price               20000 non-null  float64\n",
      " 11  product_first_sold_date  19803 non-null  float64\n",
      "dtypes: float64(3), int64(3), object(6)\n",
      "memory usage: 1.8+ MB\n"
     ]
    }
   ],
   "source": [
    "DS.info()"
   ]
  },
  {
   "cell_type": "code",
   "execution_count": null,
   "id": "9fee9629",
   "metadata": {},
   "outputs": [],
   "source": []
  },
  {
   "cell_type": "code",
   "execution_count": 385,
   "id": "fcd6bf11",
   "metadata": {},
   "outputs": [
    {
     "data": {
      "text/plain": [
       "197"
      ]
     },
     "execution_count": 385,
     "metadata": {},
     "output_type": "execute_result"
    }
   ],
   "source": [
    "#count number of null value in brand column\n",
    "DS['brand'].isnull().sum()"
   ]
  },
  {
   "cell_type": "code",
   "execution_count": 386,
   "id": "8c75366f",
   "metadata": {},
   "outputs": [
    {
     "data": {
      "text/plain": [
       "Solex             4253\n",
       "Giant Bicycles    3312\n",
       "WeareA2B          3295\n",
       "OHM Cycles        3043\n",
       "Trek Bicycles     2990\n",
       "Norco Bicycles    2910\n",
       "Name: brand, dtype: int64"
      ]
     },
     "execution_count": 386,
     "metadata": {},
     "output_type": "execute_result"
    }
   ],
   "source": [
    "#Count the number of values of each category\n",
    "DS['brand'].value_counts()"
   ]
  },
  {
   "cell_type": "code",
   "execution_count": 387,
   "id": "2307218b",
   "metadata": {},
   "outputs": [],
   "source": [
    "\n",
    "\"\"\"\n",
    "Brand column have same condition as online_order column. \n",
    "So ,missing values that are present in brand also fill with ffillna Method.\n",
    "\"\"\"\n",
    "\n",
    "#fill Missing values\n",
    "DS['brand']=DS['brand'].fillna(method='ffill')"
   ]
  },
  {
   "cell_type": "code",
   "execution_count": 388,
   "id": "db041dc4",
   "metadata": {},
   "outputs": [
    {
     "data": {
      "text/plain": [
       "0"
      ]
     },
     "execution_count": 388,
     "metadata": {},
     "output_type": "execute_result"
    }
   ],
   "source": [
    "#count null value after filling \n",
    "DS['brand'].isnull().sum()"
   ]
  },
  {
   "cell_type": "code",
   "execution_count": 389,
   "id": "4ee0e597",
   "metadata": {},
   "outputs": [
    {
     "data": {
      "text/plain": [
       "197"
      ]
     },
     "execution_count": 389,
     "metadata": {},
     "output_type": "execute_result"
    }
   ],
   "source": [
    "DS['product_line'].isnull().sum()"
   ]
  },
  {
   "cell_type": "code",
   "execution_count": 390,
   "id": "2ef42ed3",
   "metadata": {},
   "outputs": [
    {
     "data": {
      "text/plain": [
       "Standard    14176\n",
       "Road         3970\n",
       "Touring      1234\n",
       "Mountain      423\n",
       "Name: product_line, dtype: int64"
      ]
     },
     "execution_count": 390,
     "metadata": {},
     "output_type": "execute_result"
    }
   ],
   "source": [
    "DS['product_line'].value_counts()"
   ]
  },
  {
   "cell_type": "code",
   "execution_count": 391,
   "id": "d7fdc4ae",
   "metadata": {},
   "outputs": [],
   "source": [
    "#fill missing value of product_line with backwords fillna method\n",
    "DS['product_line']=DS['product_line'].fillna(method='bfill')"
   ]
  },
  {
   "cell_type": "code",
   "execution_count": 392,
   "id": "a65f4438",
   "metadata": {},
   "outputs": [
    {
     "data": {
      "text/plain": [
       "0"
      ]
     },
     "execution_count": 392,
     "metadata": {},
     "output_type": "execute_result"
    }
   ],
   "source": [
    "#After filling missing value count number of null\n",
    "DS['product_line'].isnull().sum()"
   ]
  },
  {
   "cell_type": "code",
   "execution_count": 393,
   "id": "a08953a1",
   "metadata": {},
   "outputs": [
    {
     "data": {
      "text/plain": [
       "197"
      ]
     },
     "execution_count": 393,
     "metadata": {},
     "output_type": "execute_result"
    }
   ],
   "source": [
    "#count the number of null values of product_class\n",
    "DS['product_class'].isnull().sum()"
   ]
  },
  {
   "cell_type": "code",
   "execution_count": 394,
   "id": "c8d837d6",
   "metadata": {},
   "outputs": [
    {
     "data": {
      "text/plain": [
       "<AxesSubplot:>"
      ]
     },
     "execution_count": 394,
     "metadata": {},
     "output_type": "execute_result"
    },
    {
     "data": {
      "image/png": "[encoded data removed]",
      "text/plain": [
       "<Figure size 432x288 with 1 Axes>"
      ]
     },
     "metadata": {
      "needs_background": "light"
     },
     "output_type": "display_data"
    }
   ],
   "source": [
    "DS['product_class'].hist()"
   ]
  },
  {
   "cell_type": "code",
   "execution_count": 395,
   "id": "19e523b3",
   "metadata": {},
   "outputs": [
    {
     "data": {
      "text/plain": [
       "<AxesSubplot:>"
      ]
     },
     "execution_count": 395,
     "metadata": {},
     "output_type": "execute_result"
    },
    {
     "data": {
      "image/png": "[encoded data removed]",
      "text/plain": [
       "<Figure size 432x288 with 1 Axes>"
      ]
     },
     "metadata": {
      "needs_background": "light"
     },
     "output_type": "display_data"
    }
   ],
   "source": [
    "#fill missing value\n",
    "DS['product_class']=DS['product_class'].fillna(method='bfill')\n",
    "DS['product_class'].hist()\n"
   ]
  },
  {
   "cell_type": "markdown",
   "id": "dfcc8931",
   "metadata": {},
   "source": [
    "As you can see in above graphs before and after filling missing value of product_class column you can observe that there is no such difference between graphs. So, we can fill missing value with fillna method. "
   ]
  },
  {
   "cell_type": "code",
   "execution_count": 396,
   "id": "f0752e09",
   "metadata": {},
   "outputs": [
    {
     "data": {
      "text/plain": [
       "0"
      ]
     },
     "execution_count": 396,
     "metadata": {},
     "output_type": "execute_result"
    }
   ],
   "source": [
    "#count missing value after applying fillna method \n",
    "DS['product_class'].isnull().sum()"
   ]
  },
  {
   "cell_type": "code",
   "execution_count": 397,
   "id": "ac7bf145",
   "metadata": {},
   "outputs": [
    {
     "data": {
      "text/plain": [
       "197"
      ]
     },
     "execution_count": 397,
     "metadata": {},
     "output_type": "execute_result"
    }
   ],
   "source": [
    "DS['product_size'].isnull().sum()"
   ]
  },
  {
   "cell_type": "code",
   "execution_count": 398,
   "id": "de42caf2",
   "metadata": {},
   "outputs": [
    {
     "data": {
      "text/plain": [
       "medium    12990\n",
       "large      3976\n",
       "small      2837\n",
       "Name: product_size, dtype: int64"
      ]
     },
     "execution_count": 398,
     "metadata": {},
     "output_type": "execute_result"
    }
   ],
   "source": [
    "DS['product_size'].value_counts()"
   ]
  },
  {
   "cell_type": "code",
   "execution_count": 399,
   "id": "3fcc6eac",
   "metadata": {},
   "outputs": [
    {
     "data": {
      "text/plain": [
       "<AxesSubplot:>"
      ]
     },
     "execution_count": 399,
     "metadata": {},
     "output_type": "execute_result"
    },
    {
     "data": {
      "image/png": "[encoded data removed]",
      "text/plain": [
       "<Figure size 432x288 with 1 Axes>"
      ]
     },
     "metadata": {
      "needs_background": "light"
     },
     "output_type": "display_data"
    }
   ],
   "source": [
    "DS['product_size'].hist()"
   ]
  },
  {
   "cell_type": "code",
   "execution_count": 400,
   "id": "388901ab",
   "metadata": {},
   "outputs": [
    {
     "data": {
      "text/plain": [
       "<AxesSubplot:>"
      ]
     },
     "execution_count": 400,
     "metadata": {},
     "output_type": "execute_result"
    },
    {
     "data": {
      "image/png": "[encoded data removed]",
      "text/plain": [
       "<Figure size 432x288 with 1 Axes>"
      ]
     },
     "metadata": {
      "needs_background": "light"
     },
     "output_type": "display_data"
    }
   ],
   "source": [
    "#fill misisng value\n",
    "DS['product_size']=DS['product_size'].fillna(method='ffill')\n",
    "\n",
    "#histogram after filling missing values\n",
    "DS['product_size'].hist()"
   ]
  },
  {
   "cell_type": "markdown",
   "id": "40d2b184",
   "metadata": {},
   "source": [
    "\n",
    "As you can see in above graphs before and after filling missing value of product_size column you can observe that there is no such difference between graphs. So, we can fill missing value with fillna method. \n"
   ]
  },
  {
   "cell_type": "code",
   "execution_count": 401,
   "id": "7faee884",
   "metadata": {},
   "outputs": [
    {
     "data": {
      "text/plain": [
       "0"
      ]
     },
     "execution_count": 401,
     "metadata": {},
     "output_type": "execute_result"
    }
   ],
   "source": [
    "#after filling missing value \n",
    "DS['product_size'].isnull().sum()"
   ]
  },
  {
   "cell_type": "code",
   "execution_count": 402,
   "id": "cb350d4f",
   "metadata": {},
   "outputs": [
    {
     "data": {
      "text/plain": [
       "197"
      ]
     },
     "execution_count": 402,
     "metadata": {},
     "output_type": "execute_result"
    }
   ],
   "source": [
    "DS['product_first_sold_date'].isnull().sum()"
   ]
  },
  {
   "cell_type": "code",
   "execution_count": 404,
   "id": "cdfc731e",
   "metadata": {},
   "outputs": [],
   "source": [
    "\n",
    "\"\"\"\n",
    "we can fill missing value of Product_first_sold_date by taking mean of entire column because\n",
    "As you can see in dataset info that product_first_sold_date contain numerical data and\n",
    "when we analysis the data of Product_first_sold_date, we observe that the in the starting the \n",
    "value of Product_first_sold_date is very high and in the end the value of Product_first_sold_date\n",
    "is very low it means in the middle it contain average of both so, we fill missing value with mean of \n",
    "entire column\n",
    "\n",
    "\"\"\"\n",
    "DS['product_first_sold_date']=DS['product_first_sold_date'].fillna(DS['product_first_sold_date'].mean())"
   ]
  },
  {
   "cell_type": "code",
   "execution_count": 263,
   "id": "1ca35f3c",
   "metadata": {},
   "outputs": [
    {
     "data": {
      "text/plain": [
       "<BarContainer object of 20000 artists>"
      ]
     },
     "execution_count": 263,
     "metadata": {},
     "output_type": "execute_result"
    },
    {
     "data": {
      "image/png": "[encoded data removed]",
      "text/plain": [
       "<Figure size 432x288 with 1 Axes>"
      ]
     },
     "metadata": {
      "needs_background": "light"
     },
     "output_type": "display_data"
    }
   ],
   "source": [
    "#After filling the missing value the graph of Product_first_sold_date column is given below.\n",
    "import matplotlib.pyplot as plt\n",
    "\n",
    "y=DS['product_first_sold_date']\n",
    "x=DS['transaction_id']\n",
    "plt.bar(x,y)\n"
   ]
  },
  {
   "cell_type": "code",
   "execution_count": 264,
   "id": "b02ae6dd",
   "metadata": {},
   "outputs": [
    {
     "data": {
      "text/plain": [
       "0"
      ]
     },
     "execution_count": 264,
     "metadata": {},
     "output_type": "execute_result"
    }
   ],
   "source": [
    "DS['product_first_sold_date'].isnull().sum()"
   ]
  },
  {
   "cell_type": "markdown",
   "id": "48acad9f",
   "metadata": {},
   "source": [
    "DataSet is successfully Cleaned Now we can easy use this for predictions"
   ]
  },
  {
   "cell_type": "code",
   "execution_count": 265,
   "id": "e5ca859d",
   "metadata": {},
   "outputs": [
    {
     "data": {
      "text/plain": [
       "transaction_id             0\n",
       "product_id                 0\n",
       "customer_id                0\n",
       "transaction_date           0\n",
       "online_order               0\n",
       "order_status               0\n",
       "brand                      0\n",
       "product_line               0\n",
       "product_class              0\n",
       "product_size               0\n",
       "list_price                 0\n",
       "product_first_sold_date    0\n",
       "dtype: int64"
      ]
     },
     "execution_count": 265,
     "metadata": {},
     "output_type": "execute_result"
    }
   ],
   "source": [
    "#Now we check dataset contain any other null values or not\n",
    "\n",
    "DS.isnull().sum()"
   ]
  },
  {
   "cell_type": "markdown",
   "id": "03a5a6da",
   "metadata": {},
   "source": [
    "As you can that there is no further Null values are present in dataset it means our dataset is now clean, Now we can use it for prediction or modeling."
   ]
  },
  {
   "cell_type": "markdown",
   "id": "ab80c6d7",
   "metadata": {},
   "source": [
    "# DATASET2 (Customer Demographic)\n",
    "CustomerDemographic is a dataset contains the information of customer such as customer id, name, gender, DOB, job title, wealth_segment, owns_car etc."
   ]
  },
  {
   "cell_type": "code",
   "execution_count": 279,
   "id": "82fb745c",
   "metadata": {},
   "outputs": [
    {
     "data": {
      "text/html": [
       "<div>\n",
       "<style scoped>\n",
       "    .dataframe tbody tr th:only-of-type {\n",
       "        vertical-align: middle;\n",
       "    }\n",
       "\n",
       "    .dataframe tbody tr th {\n",
       "        vertical-align: top;\n",
       "    }\n",
       "\n",
       "    .dataframe thead th {\n",
       "        text-align: right;\n",
       "    }\n",
       "</style>\n",
       "<table border=\"1\" class=\"dataframe\">\n",
       "  <thead>\n",
       "    <tr style=\"text-align: right;\">\n",
       "      <th></th>\n",
       "      <th>customer_id</th>\n",
       "      <th>first_name</th>\n",
       "      <th>last_name</th>\n",
       "      <th>gender</th>\n",
       "      <th>past_3_years_bike_related_purchases</th>\n",
       "      <th>DOB</th>\n",
       "      <th>job_title</th>\n",
       "      <th>job_industry_category</th>\n",
       "      <th>wealth_segment</th>\n",
       "      <th>deceased_indicator</th>\n",
       "      <th>default</th>\n",
       "      <th>owns_car</th>\n",
       "      <th>tenure</th>\n",
       "    </tr>\n",
       "  </thead>\n",
       "  <tbody>\n",
       "    <tr>\n",
       "      <th>0</th>\n",
       "      <td>1</td>\n",
       "      <td>Laraine</td>\n",
       "      <td>Medendorp</td>\n",
       "      <td>F</td>\n",
       "      <td>93</td>\n",
       "      <td>1953-10-12</td>\n",
       "      <td>Executive Secretary</td>\n",
       "      <td>Health</td>\n",
       "      <td>Mass Customer</td>\n",
       "      <td>N</td>\n",
       "      <td>\"'</td>\n",
       "      <td>Yes</td>\n",
       "      <td>11.0</td>\n",
       "    </tr>\n",
       "    <tr>\n",
       "      <th>1</th>\n",
       "      <td>2</td>\n",
       "      <td>Eli</td>\n",
       "      <td>Bockman</td>\n",
       "      <td>Male</td>\n",
       "      <td>81</td>\n",
       "      <td>1980-12-16</td>\n",
       "      <td>Administrative Officer</td>\n",
       "      <td>Financial Services</td>\n",
       "      <td>Mass Customer</td>\n",
       "      <td>N</td>\n",
       "      <td>&lt;script&gt;alert('hi')&lt;/script&gt;</td>\n",
       "      <td>Yes</td>\n",
       "      <td>16.0</td>\n",
       "    </tr>\n",
       "    <tr>\n",
       "      <th>2</th>\n",
       "      <td>3</td>\n",
       "      <td>Arlin</td>\n",
       "      <td>Dearle</td>\n",
       "      <td>Male</td>\n",
       "      <td>61</td>\n",
       "      <td>1954-01-20</td>\n",
       "      <td>Recruiting Manager</td>\n",
       "      <td>Property</td>\n",
       "      <td>Mass Customer</td>\n",
       "      <td>N</td>\n",
       "      <td>01-Feb</td>\n",
       "      <td>Yes</td>\n",
       "      <td>15.0</td>\n",
       "    </tr>\n",
       "    <tr>\n",
       "      <th>3</th>\n",
       "      <td>4</td>\n",
       "      <td>Talbot</td>\n",
       "      <td>NaN</td>\n",
       "      <td>Male</td>\n",
       "      <td>33</td>\n",
       "      <td>1961-10-03</td>\n",
       "      <td>NaN</td>\n",
       "      <td>IT</td>\n",
       "      <td>Mass Customer</td>\n",
       "      <td>N</td>\n",
       "      <td>() { _; } &gt;_[$($())] { touch /tmp/blns.shellsh...</td>\n",
       "      <td>No</td>\n",
       "      <td>7.0</td>\n",
       "    </tr>\n",
       "    <tr>\n",
       "      <th>4</th>\n",
       "      <td>5</td>\n",
       "      <td>Sheila-kathryn</td>\n",
       "      <td>Calton</td>\n",
       "      <td>Female</td>\n",
       "      <td>56</td>\n",
       "      <td>1977-05-13</td>\n",
       "      <td>Senior Editor</td>\n",
       "      <td>NaN</td>\n",
       "      <td>Affluent Customer</td>\n",
       "      <td>N</td>\n",
       "      <td>NIL</td>\n",
       "      <td>Yes</td>\n",
       "      <td>8.0</td>\n",
       "    </tr>\n",
       "    <tr>\n",
       "      <th>5</th>\n",
       "      <td>6</td>\n",
       "      <td>Curr</td>\n",
       "      <td>Duckhouse</td>\n",
       "      <td>Male</td>\n",
       "      <td>35</td>\n",
       "      <td>1966-09-16</td>\n",
       "      <td>NaN</td>\n",
       "      <td>Retail</td>\n",
       "      <td>High Net Worth</td>\n",
       "      <td>N</td>\n",
       "      <td>� � � �</td>\n",
       "      <td>Yes</td>\n",
       "      <td>13.0</td>\n",
       "    </tr>\n",
       "    <tr>\n",
       "      <th>6</th>\n",
       "      <td>7</td>\n",
       "      <td>Fina</td>\n",
       "      <td>Merali</td>\n",
       "      <td>Female</td>\n",
       "      <td>6</td>\n",
       "      <td>1976-02-23</td>\n",
       "      <td>NaN</td>\n",
       "      <td>Financial Services</td>\n",
       "      <td>Affluent Customer</td>\n",
       "      <td>N</td>\n",
       "      <td>������</td>\n",
       "      <td>Yes</td>\n",
       "      <td>11.0</td>\n",
       "    </tr>\n",
       "    <tr>\n",
       "      <th>7</th>\n",
       "      <td>8</td>\n",
       "      <td>Rod</td>\n",
       "      <td>Inder</td>\n",
       "      <td>Male</td>\n",
       "      <td>31</td>\n",
       "      <td>1962-03-30</td>\n",
       "      <td>Media Manager I</td>\n",
       "      <td>NaN</td>\n",
       "      <td>Mass Customer</td>\n",
       "      <td>N</td>\n",
       "      <td>(�°�°��︵ ���)</td>\n",
       "      <td>No</td>\n",
       "      <td>7.0</td>\n",
       "    </tr>\n",
       "    <tr>\n",
       "      <th>8</th>\n",
       "      <td>9</td>\n",
       "      <td>Mala</td>\n",
       "      <td>Lind</td>\n",
       "      <td>Female</td>\n",
       "      <td>97</td>\n",
       "      <td>1973-03-10</td>\n",
       "      <td>Business Systems Development Analyst</td>\n",
       "      <td>Argiculture</td>\n",
       "      <td>Affluent Customer</td>\n",
       "      <td>N</td>\n",
       "      <td>0/0</td>\n",
       "      <td>Yes</td>\n",
       "      <td>8.0</td>\n",
       "    </tr>\n",
       "    <tr>\n",
       "      <th>9</th>\n",
       "      <td>10</td>\n",
       "      <td>Fiorenze</td>\n",
       "      <td>Birdall</td>\n",
       "      <td>Female</td>\n",
       "      <td>49</td>\n",
       "      <td>1988-10-11</td>\n",
       "      <td>Senior Quality Engineer</td>\n",
       "      <td>Financial Services</td>\n",
       "      <td>Mass Customer</td>\n",
       "      <td>N</td>\n",
       "      <td>��</td>\n",
       "      <td>Yes</td>\n",
       "      <td>20.0</td>\n",
       "    </tr>\n",
       "  </tbody>\n",
       "</table>\n",
       "</div>"
      ],
      "text/plain": [
       "   customer_id      first_name  last_name  gender  \\\n",
       "0            1         Laraine  Medendorp       F   \n",
       "1            2             Eli    Bockman    Male   \n",
       "2            3           Arlin     Dearle    Male   \n",
       "3            4          Talbot        NaN    Male   \n",
       "4            5  Sheila-kathryn     Calton  Female   \n",
       "5            6            Curr  Duckhouse    Male   \n",
       "6            7            Fina     Merali  Female   \n",
       "7            8             Rod      Inder    Male   \n",
       "8            9            Mala       Lind  Female   \n",
       "9           10        Fiorenze    Birdall  Female   \n",
       "\n",
       "   past_3_years_bike_related_purchases         DOB  \\\n",
       "0                                   93  1953-10-12   \n",
       "1                                   81  1980-12-16   \n",
       "2                                   61  1954-01-20   \n",
       "3                                   33  1961-10-03   \n",
       "4                                   56  1977-05-13   \n",
       "5                                   35  1966-09-16   \n",
       "6                                    6  1976-02-23   \n",
       "7                                   31  1962-03-30   \n",
       "8                                   97  1973-03-10   \n",
       "9                                   49  1988-10-11   \n",
       "\n",
       "                              job_title job_industry_category  \\\n",
       "0                   Executive Secretary                Health   \n",
       "1                Administrative Officer    Financial Services   \n",
       "2                    Recruiting Manager              Property   \n",
       "3                                   NaN                    IT   \n",
       "4                         Senior Editor                   NaN   \n",
       "5                                   NaN                Retail   \n",
       "6                                   NaN    Financial Services   \n",
       "7                       Media Manager I                   NaN   \n",
       "8  Business Systems Development Analyst           Argiculture   \n",
       "9               Senior Quality Engineer    Financial Services   \n",
       "\n",
       "      wealth_segment deceased_indicator  \\\n",
       "0      Mass Customer                  N   \n",
       "1      Mass Customer                  N   \n",
       "2      Mass Customer                  N   \n",
       "3      Mass Customer                  N   \n",
       "4  Affluent Customer                  N   \n",
       "5     High Net Worth                  N   \n",
       "6  Affluent Customer                  N   \n",
       "7      Mass Customer                  N   \n",
       "8  Affluent Customer                  N   \n",
       "9      Mass Customer                  N   \n",
       "\n",
       "                                             default owns_car  tenure  \n",
       "0                                                 \"'      Yes    11.0  \n",
       "1                       <script>alert('hi')</script>      Yes    16.0  \n",
       "2                                             01-Feb      Yes    15.0  \n",
       "3  () { _; } >_[$($())] { touch /tmp/blns.shellsh...       No     7.0  \n",
       "4                                                NIL      Yes     8.0  \n",
       "5                                            � � � �      Yes    13.0  \n",
       "6                                             ������      Yes    11.0  \n",
       "7                                      (�°�°��︵ ���)       No     7.0  \n",
       "8                                                0/0      Yes     8.0  \n",
       "9                                                 ��      Yes    20.0  "
      ]
     },
     "execution_count": 279,
     "metadata": {},
     "output_type": "execute_result"
    }
   ],
   "source": [
    "#import libraries\n",
    "import pandas as pd\n",
    "import numpy as np\n",
    "\n",
    "#read dataset\n",
    "dataset2=pd.read_csv(\"CustomerDemographic.csv\")\n",
    "\n",
    "#retrieve rows of dataset\n",
    "dataset2.head(10)\n"
   ]
  },
  {
   "cell_type": "code",
   "execution_count": 280,
   "id": "055c1953",
   "metadata": {},
   "outputs": [
    {
     "data": {
      "text/html": [
       "<div>\n",
       "<style scoped>\n",
       "    .dataframe tbody tr th:only-of-type {\n",
       "        vertical-align: middle;\n",
       "    }\n",
       "\n",
       "    .dataframe tbody tr th {\n",
       "        vertical-align: top;\n",
       "    }\n",
       "\n",
       "    .dataframe thead th {\n",
       "        text-align: right;\n",
       "    }\n",
       "</style>\n",
       "<table border=\"1\" class=\"dataframe\">\n",
       "  <thead>\n",
       "    <tr style=\"text-align: right;\">\n",
       "      <th></th>\n",
       "      <th>customer_id</th>\n",
       "      <th>first_name</th>\n",
       "      <th>last_name</th>\n",
       "      <th>gender</th>\n",
       "      <th>past_3_years_bike_related_purchases</th>\n",
       "      <th>DOB</th>\n",
       "      <th>job_title</th>\n",
       "      <th>job_industry_category</th>\n",
       "      <th>wealth_segment</th>\n",
       "      <th>deceased_indicator</th>\n",
       "      <th>default</th>\n",
       "      <th>owns_car</th>\n",
       "      <th>tenure</th>\n",
       "    </tr>\n",
       "  </thead>\n",
       "  <tbody>\n",
       "    <tr>\n",
       "      <th>0</th>\n",
       "      <td>1</td>\n",
       "      <td>Laraine</td>\n",
       "      <td>Medendorp</td>\n",
       "      <td>F</td>\n",
       "      <td>93</td>\n",
       "      <td>1953-10-12</td>\n",
       "      <td>Executive Secretary</td>\n",
       "      <td>Health</td>\n",
       "      <td>Mass Customer</td>\n",
       "      <td>N</td>\n",
       "      <td>\"'</td>\n",
       "      <td>Yes</td>\n",
       "      <td>11.0</td>\n",
       "    </tr>\n",
       "    <tr>\n",
       "      <th>1</th>\n",
       "      <td>2</td>\n",
       "      <td>Eli</td>\n",
       "      <td>Bockman</td>\n",
       "      <td>Male</td>\n",
       "      <td>81</td>\n",
       "      <td>1980-12-16</td>\n",
       "      <td>Administrative Officer</td>\n",
       "      <td>Financial Services</td>\n",
       "      <td>Mass Customer</td>\n",
       "      <td>N</td>\n",
       "      <td>&lt;script&gt;alert('hi')&lt;/script&gt;</td>\n",
       "      <td>Yes</td>\n",
       "      <td>16.0</td>\n",
       "    </tr>\n",
       "    <tr>\n",
       "      <th>2</th>\n",
       "      <td>3</td>\n",
       "      <td>Arlin</td>\n",
       "      <td>Dearle</td>\n",
       "      <td>Male</td>\n",
       "      <td>61</td>\n",
       "      <td>1954-01-20</td>\n",
       "      <td>Recruiting Manager</td>\n",
       "      <td>Property</td>\n",
       "      <td>Mass Customer</td>\n",
       "      <td>N</td>\n",
       "      <td>01-Feb</td>\n",
       "      <td>Yes</td>\n",
       "      <td>15.0</td>\n",
       "    </tr>\n",
       "    <tr>\n",
       "      <th>3</th>\n",
       "      <td>4</td>\n",
       "      <td>Talbot</td>\n",
       "      <td>NaN</td>\n",
       "      <td>Male</td>\n",
       "      <td>33</td>\n",
       "      <td>1961-10-03</td>\n",
       "      <td>NaN</td>\n",
       "      <td>IT</td>\n",
       "      <td>Mass Customer</td>\n",
       "      <td>N</td>\n",
       "      <td>() { _; } &gt;_[$($())] { touch /tmp/blns.shellsh...</td>\n",
       "      <td>No</td>\n",
       "      <td>7.0</td>\n",
       "    </tr>\n",
       "    <tr>\n",
       "      <th>4</th>\n",
       "      <td>5</td>\n",
       "      <td>Sheila-kathryn</td>\n",
       "      <td>Calton</td>\n",
       "      <td>Female</td>\n",
       "      <td>56</td>\n",
       "      <td>1977-05-13</td>\n",
       "      <td>Senior Editor</td>\n",
       "      <td>NaN</td>\n",
       "      <td>Affluent Customer</td>\n",
       "      <td>N</td>\n",
       "      <td>NIL</td>\n",
       "      <td>Yes</td>\n",
       "      <td>8.0</td>\n",
       "    </tr>\n",
       "  </tbody>\n",
       "</table>\n",
       "</div>"
      ],
      "text/plain": [
       "   customer_id      first_name  last_name  gender  \\\n",
       "0            1         Laraine  Medendorp       F   \n",
       "1            2             Eli    Bockman    Male   \n",
       "2            3           Arlin     Dearle    Male   \n",
       "3            4          Talbot        NaN    Male   \n",
       "4            5  Sheila-kathryn     Calton  Female   \n",
       "\n",
       "   past_3_years_bike_related_purchases         DOB               job_title  \\\n",
       "0                                   93  1953-10-12     Executive Secretary   \n",
       "1                                   81  1980-12-16  Administrative Officer   \n",
       "2                                   61  1954-01-20      Recruiting Manager   \n",
       "3                                   33  1961-10-03                     NaN   \n",
       "4                                   56  1977-05-13           Senior Editor   \n",
       "\n",
       "  job_industry_category     wealth_segment deceased_indicator  \\\n",
       "0                Health      Mass Customer                  N   \n",
       "1    Financial Services      Mass Customer                  N   \n",
       "2              Property      Mass Customer                  N   \n",
       "3                    IT      Mass Customer                  N   \n",
       "4                   NaN  Affluent Customer                  N   \n",
       "\n",
       "                                             default owns_car  tenure  \n",
       "0                                                 \"'      Yes    11.0  \n",
       "1                       <script>alert('hi')</script>      Yes    16.0  \n",
       "2                                             01-Feb      Yes    15.0  \n",
       "3  () { _; } >_[$($())] { touch /tmp/blns.shellsh...       No     7.0  \n",
       "4                                                NIL      Yes     8.0  "
      ]
     },
     "execution_count": 280,
     "metadata": {},
     "output_type": "execute_result"
    }
   ],
   "source": [
    "DS2=dataset2\n",
    "DS2.head()"
   ]
  },
  {
   "cell_type": "code",
   "execution_count": 281,
   "id": "dbca48b8",
   "metadata": {},
   "outputs": [
    {
     "name": "stdout",
     "output_type": "stream",
     "text": [
      "<class 'pandas.core.frame.DataFrame'>\n",
      "RangeIndex: 4000 entries, 0 to 3999\n",
      "Data columns (total 13 columns):\n",
      " #   Column                               Non-Null Count  Dtype  \n",
      "---  ------                               --------------  -----  \n",
      " 0   customer_id                          4000 non-null   int64  \n",
      " 1   first_name                           4000 non-null   object \n",
      " 2   last_name                            3875 non-null   object \n",
      " 3   gender                               4000 non-null   object \n",
      " 4   past_3_years_bike_related_purchases  4000 non-null   int64  \n",
      " 5   DOB                                  3913 non-null   object \n",
      " 6   job_title                            3494 non-null   object \n",
      " 7   job_industry_category                3344 non-null   object \n",
      " 8   wealth_segment                       4000 non-null   object \n",
      " 9   deceased_indicator                   4000 non-null   object \n",
      " 10  default                              3698 non-null   object \n",
      " 11  owns_car                             4000 non-null   object \n",
      " 12  tenure                               3913 non-null   float64\n",
      "dtypes: float64(1), int64(2), object(10)\n",
      "memory usage: 406.4+ KB\n"
     ]
    }
   ],
   "source": [
    "#retrieve the common information of dataset\n",
    "DS2.info()"
   ]
  },
  {
   "cell_type": "code",
   "execution_count": 282,
   "id": "29674762",
   "metadata": {},
   "outputs": [
    {
     "data": {
      "text/html": [
       "<div>\n",
       "<style scoped>\n",
       "    .dataframe tbody tr th:only-of-type {\n",
       "        vertical-align: middle;\n",
       "    }\n",
       "\n",
       "    .dataframe tbody tr th {\n",
       "        vertical-align: top;\n",
       "    }\n",
       "\n",
       "    .dataframe thead th {\n",
       "        text-align: right;\n",
       "    }\n",
       "</style>\n",
       "<table border=\"1\" class=\"dataframe\">\n",
       "  <thead>\n",
       "    <tr style=\"text-align: right;\">\n",
       "      <th></th>\n",
       "      <th>customer_id</th>\n",
       "      <th>past_3_years_bike_related_purchases</th>\n",
       "      <th>tenure</th>\n",
       "    </tr>\n",
       "  </thead>\n",
       "  <tbody>\n",
       "    <tr>\n",
       "      <th>count</th>\n",
       "      <td>4000.000000</td>\n",
       "      <td>4000.000000</td>\n",
       "      <td>3913.000000</td>\n",
       "    </tr>\n",
       "    <tr>\n",
       "      <th>mean</th>\n",
       "      <td>2000.500000</td>\n",
       "      <td>48.890000</td>\n",
       "      <td>10.657041</td>\n",
       "    </tr>\n",
       "    <tr>\n",
       "      <th>std</th>\n",
       "      <td>1154.844867</td>\n",
       "      <td>28.715005</td>\n",
       "      <td>5.660146</td>\n",
       "    </tr>\n",
       "    <tr>\n",
       "      <th>min</th>\n",
       "      <td>1.000000</td>\n",
       "      <td>0.000000</td>\n",
       "      <td>1.000000</td>\n",
       "    </tr>\n",
       "    <tr>\n",
       "      <th>25%</th>\n",
       "      <td>1000.750000</td>\n",
       "      <td>24.000000</td>\n",
       "      <td>6.000000</td>\n",
       "    </tr>\n",
       "    <tr>\n",
       "      <th>50%</th>\n",
       "      <td>2000.500000</td>\n",
       "      <td>48.000000</td>\n",
       "      <td>11.000000</td>\n",
       "    </tr>\n",
       "    <tr>\n",
       "      <th>75%</th>\n",
       "      <td>3000.250000</td>\n",
       "      <td>73.000000</td>\n",
       "      <td>15.000000</td>\n",
       "    </tr>\n",
       "    <tr>\n",
       "      <th>max</th>\n",
       "      <td>4000.000000</td>\n",
       "      <td>99.000000</td>\n",
       "      <td>22.000000</td>\n",
       "    </tr>\n",
       "  </tbody>\n",
       "</table>\n",
       "</div>"
      ],
      "text/plain": [
       "       customer_id  past_3_years_bike_related_purchases       tenure\n",
       "count  4000.000000                          4000.000000  3913.000000\n",
       "mean   2000.500000                            48.890000    10.657041\n",
       "std    1154.844867                            28.715005     5.660146\n",
       "min       1.000000                             0.000000     1.000000\n",
       "25%    1000.750000                            24.000000     6.000000\n",
       "50%    2000.500000                            48.000000    11.000000\n",
       "75%    3000.250000                            73.000000    15.000000\n",
       "max    4000.000000                            99.000000    22.000000"
      ]
     },
     "execution_count": 282,
     "metadata": {},
     "output_type": "execute_result"
    }
   ],
   "source": [
    "#retrieve contral tendency of dataset\n",
    "DS2.describe()"
   ]
  },
  {
   "cell_type": "code",
   "execution_count": 283,
   "id": "3d3ace59",
   "metadata": {},
   "outputs": [
    {
     "data": {
      "text/plain": [
       "customer_id                              0\n",
       "first_name                               0\n",
       "last_name                              125\n",
       "gender                                   0\n",
       "past_3_years_bike_related_purchases      0\n",
       "DOB                                     87\n",
       "job_title                              506\n",
       "job_industry_category                  656\n",
       "wealth_segment                           0\n",
       "deceased_indicator                       0\n",
       "default                                302\n",
       "owns_car                                 0\n",
       "tenure                                  87\n",
       "dtype: int64"
      ]
     },
     "execution_count": 283,
     "metadata": {},
     "output_type": "execute_result"
    }
   ],
   "source": [
    "#calculate the null value present in each columns\n",
    "DS2.isnull().sum()"
   ]
  },
  {
   "cell_type": "code",
   "execution_count": 284,
   "id": "54324ebb",
   "metadata": {},
   "outputs": [
    {
     "data": {
      "text/plain": [
       "0"
      ]
     },
     "execution_count": 284,
     "metadata": {},
     "output_type": "execute_result"
    }
   ],
   "source": [
    "\n",
    "\n",
    "\"\"\"\n",
    "we use fillna methods to fill missing value of last name of particular person \n",
    "because as you can see that the last_name contian string data.\n",
    "we don't know about last name of particular person, hence for this we use random str in order to handle the missing values,\n",
    "I fill this value by filna method because When users don’t pass any value then fillna method\n",
    "fills the place with value in the Forward index or Previous index\n",
    "based on the value passed in the method parameter.\n",
    "we need to fill it, we can not drop the rows that contain missing values because these rows may be contain \n",
    "important data so, we can fill it with random string unless drop it.\n",
    "\n",
    "\"\"\"\n",
    "DS2['last_name']=DS2['last_name'].fillna(method='ffill')\n",
    "DS2['last_name'].isnull().sum()"
   ]
  },
  {
   "cell_type": "code",
   "execution_count": 285,
   "id": "857f3e42",
   "metadata": {},
   "outputs": [
    {
     "data": {
      "text/plain": [
       "0"
      ]
     },
     "execution_count": 285,
     "metadata": {},
     "output_type": "execute_result"
    }
   ],
   "source": [
    "\"\"\" Condition of DOB is same as Condition of last_name so, we also fill null value of DOB column with fillna method  \"\"\"\n",
    "DS2['DOB']=DS2['DOB'].fillna(method='ffill')\n",
    "\n",
    "#count the number of null values present in DOB column\n",
    "DS2['DOB'].isnull().sum()"
   ]
  },
  {
   "cell_type": "code",
   "execution_count": 286,
   "id": "59035dab",
   "metadata": {},
   "outputs": [
    {
     "data": {
      "text/plain": [
       "Female    2037\n",
       "Male      1872\n",
       "U           88\n",
       "F            1\n",
       "Femal        1\n",
       "M            1\n",
       "Name: gender, dtype: int64"
      ]
     },
     "execution_count": 286,
     "metadata": {},
     "output_type": "execute_result"
    }
   ],
   "source": [
    "#count number of values\n",
    "DS2['gender'].value_counts()"
   ]
  },
  {
   "cell_type": "code",
   "execution_count": 287,
   "id": "232f773f",
   "metadata": {},
   "outputs": [
    {
     "data": {
      "text/plain": [
       "Female    2039\n",
       "Male      1873\n",
       "U           88\n",
       "Name: gender, dtype: int64"
      ]
     },
     "execution_count": 287,
     "metadata": {},
     "output_type": "execute_result"
    }
   ],
   "source": [
    "\n",
    "#replace Femal, F to Female, and M to Male because it  is to understand or prediction\n",
    "DS2['gender'].replace(\n",
    "    {\n",
    "        'F': 'Female', 'M': 'Male', 'Femal':'Female'\n",
    "    }, \n",
    "    \n",
    "    inplace=True\n",
    ")\n",
    "\n",
    "\n",
    "#count number of values\n",
    "DS2['gender'].value_counts()"
   ]
  },
  {
   "cell_type": "code",
   "execution_count": 288,
   "id": "d41a6a7c",
   "metadata": {},
   "outputs": [
    {
     "data": {
      "text/plain": [
       "Business Systems Development Analyst    45\n",
       "Social Worker                           44\n",
       "Tax Accountant                          44\n",
       "Internal Auditor                        42\n",
       "Legal Assistant                         41\n",
       "                                        ..\n",
       "Database Administrator I                 4\n",
       "Health Coach I                           3\n",
       "Research Assistant III                   3\n",
       "Health Coach III                         3\n",
       "Developer I                              1\n",
       "Name: job_title, Length: 195, dtype: int64"
      ]
     },
     "execution_count": 288,
     "metadata": {},
     "output_type": "execute_result"
    }
   ],
   "source": [
    "DS2['job_title'].value_counts()\n"
   ]
  },
  {
   "cell_type": "code",
   "execution_count": 289,
   "id": "bb4ea89f",
   "metadata": {},
   "outputs": [
    {
     "data": {
      "text/plain": [
       "<AxesSubplot:>"
      ]
     },
     "execution_count": 289,
     "metadata": {},
     "output_type": "execute_result"
    },
    {
     "data": {
      "image/png": "[encoded data removed]",
      "text/plain": [
       "<Figure size 432x288 with 1 Axes>"
      ]
     },
     "metadata": {
      "needs_background": "light"
     },
     "output_type": "display_data"
    }
   ],
   "source": [
    "DS2['job_title'].hist()"
   ]
  },
  {
   "cell_type": "code",
   "execution_count": 290,
   "id": "172749c4",
   "metadata": {},
   "outputs": [
    {
     "data": {
      "text/plain": [
       "<AxesSubplot:>"
      ]
     },
     "execution_count": 290,
     "metadata": {},
     "output_type": "execute_result"
    },
    {
     "data": {
      "image/png": "[encoded data removed]",
      "text/plain": [
       "<Figure size 432x288 with 1 Axes>"
      ]
     },
     "metadata": {
      "needs_background": "light"
     },
     "output_type": "display_data"
    }
   ],
   "source": [
    "\n",
    "\"\"\"\n",
    "As we can see in above histogram we can not able to assign a particular job to a particular person\n",
    "So, we can check it with fillna method if their is no change occur in histogram, then we use fillna method\n",
    "to fill fill the missing values\n",
    "\n",
    "\"\"\"\n",
    "DS2['job_title']=DS2['job_title'].fillna(method='bfill')\n",
    "DS2['job_title'].hist()"
   ]
  },
  {
   "cell_type": "markdown",
   "id": "c113380c",
   "metadata": {},
   "source": [
    "As you can see in above histogram their is no certain change is occur in histogram after filling missing value with fillna method. so, it means we can fill it with fillna method, hence I used fillna method to fill the missing value."
   ]
  },
  {
   "cell_type": "code",
   "execution_count": 291,
   "id": "833fda8f",
   "metadata": {},
   "outputs": [],
   "source": [
    "DS2['job_industry_category']=DS2['job_industry_category'].fillna(method='ffill')"
   ]
  },
  {
   "cell_type": "code",
   "execution_count": 292,
   "id": "22f805a2",
   "metadata": {},
   "outputs": [],
   "source": [
    "\n",
    "\n",
    "#we need to default column because it contain raw data or meaning less data.\n",
    "del DS2['default']"
   ]
  },
  {
   "cell_type": "code",
   "execution_count": 293,
   "id": "b7a4384c",
   "metadata": {},
   "outputs": [
    {
     "data": {
      "text/plain": [
       "customer_id                             0\n",
       "first_name                              0\n",
       "last_name                               0\n",
       "gender                                  0\n",
       "past_3_years_bike_related_purchases     0\n",
       "DOB                                     0\n",
       "job_title                               0\n",
       "job_industry_category                   0\n",
       "wealth_segment                          0\n",
       "deceased_indicator                      0\n",
       "owns_car                                0\n",
       "tenure                                 87\n",
       "dtype: int64"
      ]
     },
     "execution_count": 293,
     "metadata": {},
     "output_type": "execute_result"
    }
   ],
   "source": [
    "DS2.isnull().sum()"
   ]
  },
  {
   "cell_type": "code",
   "execution_count": 294,
   "id": "bee14351",
   "metadata": {},
   "outputs": [
    {
     "data": {
      "text/plain": [
       "7.0     235\n",
       "5.0     228\n",
       "11.0    221\n",
       "10.0    218\n",
       "16.0    215\n",
       "8.0     211\n",
       "18.0    208\n",
       "12.0    202\n",
       "14.0    200\n",
       "9.0     200\n",
       "6.0     192\n",
       "4.0     191\n",
       "13.0    191\n",
       "17.0    182\n",
       "15.0    179\n",
       "1.0     166\n",
       "3.0     160\n",
       "19.0    159\n",
       "2.0     150\n",
       "20.0     96\n",
       "22.0     55\n",
       "21.0     54\n",
       "Name: tenure, dtype: int64"
      ]
     },
     "execution_count": 294,
     "metadata": {},
     "output_type": "execute_result"
    }
   ],
   "source": [
    "#count the values\n",
    "DS2['tenure'].value_counts()"
   ]
  },
  {
   "cell_type": "code",
   "execution_count": 295,
   "id": "3173195e",
   "metadata": {},
   "outputs": [
    {
     "data": {
      "text/plain": [
       "<AxesSubplot:>"
      ]
     },
     "execution_count": 295,
     "metadata": {},
     "output_type": "execute_result"
    },
    {
     "data": {
      "image/png": "[encoded data removed]",
      "text/plain": [
       "<Figure size 432x288 with 1 Axes>"
      ]
     },
     "metadata": {
      "needs_background": "light"
     },
     "output_type": "display_data"
    }
   ],
   "source": [
    "#display the histogram of tenure\n",
    "DS2['tenure'].hist()"
   ]
  },
  {
   "cell_type": "code",
   "execution_count": 296,
   "id": "f3b9c61f",
   "metadata": {},
   "outputs": [],
   "source": [
    "\"\"\"\n",
    "As you can see in histogram of data, it contain value in decreasing order, \n",
    "but when you focus on histogram you can see that first it increase and then decrease. \n",
    "Hence, we use mean of column to fill the missing value   \n",
    "\"\"\"\n",
    "\n",
    "#fill missing value of tenure column\n",
    "DS2['tenure']=DS2['tenure'].fillna(DS2['tenure'].mean())"
   ]
  },
  {
   "cell_type": "code",
   "execution_count": 297,
   "id": "f8869b14",
   "metadata": {},
   "outputs": [
    {
     "data": {
      "text/plain": [
       "<AxesSubplot:>"
      ]
     },
     "execution_count": 297,
     "metadata": {},
     "output_type": "execute_result"
    },
    {
     "data": {
      "image/png": "[encoded data removed]",
      "text/plain": [
       "<Figure size 432x288 with 1 Axes>"
      ]
     },
     "metadata": {
      "needs_background": "light"
     },
     "output_type": "display_data"
    }
   ],
   "source": [
    "#Histogram after filling the missing value\n",
    "DS2['tenure'].hist()"
   ]
  },
  {
   "cell_type": "code",
   "execution_count": 298,
   "id": "e861792d",
   "metadata": {},
   "outputs": [
    {
     "data": {
      "text/html": [
       "<div>\n",
       "<style scoped>\n",
       "    .dataframe tbody tr th:only-of-type {\n",
       "        vertical-align: middle;\n",
       "    }\n",
       "\n",
       "    .dataframe tbody tr th {\n",
       "        vertical-align: top;\n",
       "    }\n",
       "\n",
       "    .dataframe thead th {\n",
       "        text-align: right;\n",
       "    }\n",
       "</style>\n",
       "<table border=\"1\" class=\"dataframe\">\n",
       "  <thead>\n",
       "    <tr style=\"text-align: right;\">\n",
       "      <th></th>\n",
       "      <th>customer_id</th>\n",
       "      <th>first_name</th>\n",
       "      <th>last_name</th>\n",
       "      <th>gender</th>\n",
       "      <th>past_3_years_bike_related_purchases</th>\n",
       "      <th>DOB</th>\n",
       "      <th>job_title</th>\n",
       "      <th>job_industry_category</th>\n",
       "      <th>wealth_segment</th>\n",
       "      <th>deceased_indicator</th>\n",
       "      <th>owns_car</th>\n",
       "      <th>tenure</th>\n",
       "    </tr>\n",
       "  </thead>\n",
       "  <tbody>\n",
       "    <tr>\n",
       "      <th>0</th>\n",
       "      <td>1</td>\n",
       "      <td>Laraine</td>\n",
       "      <td>Medendorp</td>\n",
       "      <td>Female</td>\n",
       "      <td>93</td>\n",
       "      <td>1953-10-12</td>\n",
       "      <td>Executive Secretary</td>\n",
       "      <td>Health</td>\n",
       "      <td>Mass Customer</td>\n",
       "      <td>N</td>\n",
       "      <td>Yes</td>\n",
       "      <td>11.0</td>\n",
       "    </tr>\n",
       "    <tr>\n",
       "      <th>1</th>\n",
       "      <td>2</td>\n",
       "      <td>Eli</td>\n",
       "      <td>Bockman</td>\n",
       "      <td>Male</td>\n",
       "      <td>81</td>\n",
       "      <td>1980-12-16</td>\n",
       "      <td>Administrative Officer</td>\n",
       "      <td>Financial Services</td>\n",
       "      <td>Mass Customer</td>\n",
       "      <td>N</td>\n",
       "      <td>Yes</td>\n",
       "      <td>16.0</td>\n",
       "    </tr>\n",
       "    <tr>\n",
       "      <th>2</th>\n",
       "      <td>3</td>\n",
       "      <td>Arlin</td>\n",
       "      <td>Dearle</td>\n",
       "      <td>Male</td>\n",
       "      <td>61</td>\n",
       "      <td>1954-01-20</td>\n",
       "      <td>Recruiting Manager</td>\n",
       "      <td>Property</td>\n",
       "      <td>Mass Customer</td>\n",
       "      <td>N</td>\n",
       "      <td>Yes</td>\n",
       "      <td>15.0</td>\n",
       "    </tr>\n",
       "    <tr>\n",
       "      <th>3</th>\n",
       "      <td>4</td>\n",
       "      <td>Talbot</td>\n",
       "      <td>Dearle</td>\n",
       "      <td>Male</td>\n",
       "      <td>33</td>\n",
       "      <td>1961-10-03</td>\n",
       "      <td>Senior Editor</td>\n",
       "      <td>IT</td>\n",
       "      <td>Mass Customer</td>\n",
       "      <td>N</td>\n",
       "      <td>No</td>\n",
       "      <td>7.0</td>\n",
       "    </tr>\n",
       "    <tr>\n",
       "      <th>4</th>\n",
       "      <td>5</td>\n",
       "      <td>Sheila-kathryn</td>\n",
       "      <td>Calton</td>\n",
       "      <td>Female</td>\n",
       "      <td>56</td>\n",
       "      <td>1977-05-13</td>\n",
       "      <td>Senior Editor</td>\n",
       "      <td>IT</td>\n",
       "      <td>Affluent Customer</td>\n",
       "      <td>N</td>\n",
       "      <td>Yes</td>\n",
       "      <td>8.0</td>\n",
       "    </tr>\n",
       "    <tr>\n",
       "      <th>5</th>\n",
       "      <td>6</td>\n",
       "      <td>Curr</td>\n",
       "      <td>Duckhouse</td>\n",
       "      <td>Male</td>\n",
       "      <td>35</td>\n",
       "      <td>1966-09-16</td>\n",
       "      <td>Media Manager I</td>\n",
       "      <td>Retail</td>\n",
       "      <td>High Net Worth</td>\n",
       "      <td>N</td>\n",
       "      <td>Yes</td>\n",
       "      <td>13.0</td>\n",
       "    </tr>\n",
       "    <tr>\n",
       "      <th>6</th>\n",
       "      <td>7</td>\n",
       "      <td>Fina</td>\n",
       "      <td>Merali</td>\n",
       "      <td>Female</td>\n",
       "      <td>6</td>\n",
       "      <td>1976-02-23</td>\n",
       "      <td>Media Manager I</td>\n",
       "      <td>Financial Services</td>\n",
       "      <td>Affluent Customer</td>\n",
       "      <td>N</td>\n",
       "      <td>Yes</td>\n",
       "      <td>11.0</td>\n",
       "    </tr>\n",
       "    <tr>\n",
       "      <th>7</th>\n",
       "      <td>8</td>\n",
       "      <td>Rod</td>\n",
       "      <td>Inder</td>\n",
       "      <td>Male</td>\n",
       "      <td>31</td>\n",
       "      <td>1962-03-30</td>\n",
       "      <td>Media Manager I</td>\n",
       "      <td>Financial Services</td>\n",
       "      <td>Mass Customer</td>\n",
       "      <td>N</td>\n",
       "      <td>No</td>\n",
       "      <td>7.0</td>\n",
       "    </tr>\n",
       "    <tr>\n",
       "      <th>8</th>\n",
       "      <td>9</td>\n",
       "      <td>Mala</td>\n",
       "      <td>Lind</td>\n",
       "      <td>Female</td>\n",
       "      <td>97</td>\n",
       "      <td>1973-03-10</td>\n",
       "      <td>Business Systems Development Analyst</td>\n",
       "      <td>Argiculture</td>\n",
       "      <td>Affluent Customer</td>\n",
       "      <td>N</td>\n",
       "      <td>Yes</td>\n",
       "      <td>8.0</td>\n",
       "    </tr>\n",
       "    <tr>\n",
       "      <th>9</th>\n",
       "      <td>10</td>\n",
       "      <td>Fiorenze</td>\n",
       "      <td>Birdall</td>\n",
       "      <td>Female</td>\n",
       "      <td>49</td>\n",
       "      <td>1988-10-11</td>\n",
       "      <td>Senior Quality Engineer</td>\n",
       "      <td>Financial Services</td>\n",
       "      <td>Mass Customer</td>\n",
       "      <td>N</td>\n",
       "      <td>Yes</td>\n",
       "      <td>20.0</td>\n",
       "    </tr>\n",
       "  </tbody>\n",
       "</table>\n",
       "</div>"
      ],
      "text/plain": [
       "   customer_id      first_name  last_name  gender  \\\n",
       "0            1         Laraine  Medendorp  Female   \n",
       "1            2             Eli    Bockman    Male   \n",
       "2            3           Arlin     Dearle    Male   \n",
       "3            4          Talbot     Dearle    Male   \n",
       "4            5  Sheila-kathryn     Calton  Female   \n",
       "5            6            Curr  Duckhouse    Male   \n",
       "6            7            Fina     Merali  Female   \n",
       "7            8             Rod      Inder    Male   \n",
       "8            9            Mala       Lind  Female   \n",
       "9           10        Fiorenze    Birdall  Female   \n",
       "\n",
       "   past_3_years_bike_related_purchases         DOB  \\\n",
       "0                                   93  1953-10-12   \n",
       "1                                   81  1980-12-16   \n",
       "2                                   61  1954-01-20   \n",
       "3                                   33  1961-10-03   \n",
       "4                                   56  1977-05-13   \n",
       "5                                   35  1966-09-16   \n",
       "6                                    6  1976-02-23   \n",
       "7                                   31  1962-03-30   \n",
       "8                                   97  1973-03-10   \n",
       "9                                   49  1988-10-11   \n",
       "\n",
       "                              job_title job_industry_category  \\\n",
       "0                   Executive Secretary                Health   \n",
       "1                Administrative Officer    Financial Services   \n",
       "2                    Recruiting Manager              Property   \n",
       "3                         Senior Editor                    IT   \n",
       "4                         Senior Editor                    IT   \n",
       "5                       Media Manager I                Retail   \n",
       "6                       Media Manager I    Financial Services   \n",
       "7                       Media Manager I    Financial Services   \n",
       "8  Business Systems Development Analyst           Argiculture   \n",
       "9               Senior Quality Engineer    Financial Services   \n",
       "\n",
       "      wealth_segment deceased_indicator owns_car  tenure  \n",
       "0      Mass Customer                  N      Yes    11.0  \n",
       "1      Mass Customer                  N      Yes    16.0  \n",
       "2      Mass Customer                  N      Yes    15.0  \n",
       "3      Mass Customer                  N       No     7.0  \n",
       "4  Affluent Customer                  N      Yes     8.0  \n",
       "5     High Net Worth                  N      Yes    13.0  \n",
       "6  Affluent Customer                  N      Yes    11.0  \n",
       "7      Mass Customer                  N       No     7.0  \n",
       "8  Affluent Customer                  N      Yes     8.0  \n",
       "9      Mass Customer                  N      Yes    20.0  "
      ]
     },
     "execution_count": 298,
     "metadata": {},
     "output_type": "execute_result"
    }
   ],
   "source": [
    "DS2.head(10)"
   ]
  },
  {
   "cell_type": "code",
   "execution_count": 299,
   "id": "e1af1529",
   "metadata": {},
   "outputs": [
    {
     "data": {
      "text/plain": [
       "customer_id                            0\n",
       "first_name                             0\n",
       "last_name                              0\n",
       "gender                                 0\n",
       "past_3_years_bike_related_purchases    0\n",
       "DOB                                    0\n",
       "job_title                              0\n",
       "job_industry_category                  0\n",
       "wealth_segment                         0\n",
       "deceased_indicator                     0\n",
       "owns_car                               0\n",
       "tenure                                 0\n",
       "dtype: int64"
      ]
     },
     "execution_count": 299,
     "metadata": {},
     "output_type": "execute_result"
    }
   ],
   "source": [
    "#Now we check dataset contain any other null values or not\n",
    "DS2.isnull().sum()"
   ]
  },
  {
   "cell_type": "markdown",
   "id": "e2d210d8",
   "metadata": {},
   "source": [
    "As you can that there is no further Null values are present in dataset it means our dataset is now clean, Now we can use it for prediction or modeling."
   ]
  },
  {
   "cell_type": "markdown",
   "id": "e27834e2",
   "metadata": {},
   "source": [
    "# DATASET 3 (MS)\n",
    "MS dataset contain the information of house for selling or buying such as Rooms, Address, Bathroom, LandSize etc. This dataset contains missing values and raw data. we to perform data cleaning steps to clean the data."
   ]
  },
  {
   "cell_type": "code",
   "execution_count": 417,
   "id": "fa450b83",
   "metadata": {},
   "outputs": [
    {
     "data": {
      "text/html": [
       "<div>\n",
       "<style scoped>\n",
       "    .dataframe tbody tr th:only-of-type {\n",
       "        vertical-align: middle;\n",
       "    }\n",
       "\n",
       "    .dataframe tbody tr th {\n",
       "        vertical-align: top;\n",
       "    }\n",
       "\n",
       "    .dataframe thead th {\n",
       "        text-align: right;\n",
       "    }\n",
       "</style>\n",
       "<table border=\"1\" class=\"dataframe\">\n",
       "  <thead>\n",
       "    <tr style=\"text-align: right;\">\n",
       "      <th></th>\n",
       "      <th>Suburb</th>\n",
       "      <th>Address</th>\n",
       "      <th>Rooms</th>\n",
       "      <th>Type</th>\n",
       "      <th>Price</th>\n",
       "      <th>Method</th>\n",
       "      <th>SellerG</th>\n",
       "      <th>Date</th>\n",
       "      <th>Distance</th>\n",
       "      <th>Postcode</th>\n",
       "      <th>...</th>\n",
       "      <th>Bathroom</th>\n",
       "      <th>Car</th>\n",
       "      <th>Landsize</th>\n",
       "      <th>BuildingArea</th>\n",
       "      <th>YearBuilt</th>\n",
       "      <th>CouncilArea</th>\n",
       "      <th>Lattitude</th>\n",
       "      <th>Longtitude</th>\n",
       "      <th>Regionname</th>\n",
       "      <th>Propertycount</th>\n",
       "    </tr>\n",
       "  </thead>\n",
       "  <tbody>\n",
       "    <tr>\n",
       "      <th>0</th>\n",
       "      <td>Abbotsford</td>\n",
       "      <td>68 Studley St</td>\n",
       "      <td>2</td>\n",
       "      <td>h</td>\n",
       "      <td>NaN</td>\n",
       "      <td>SS</td>\n",
       "      <td>Jellis</td>\n",
       "      <td>3/09/2016</td>\n",
       "      <td>2.5</td>\n",
       "      <td>3067.0</td>\n",
       "      <td>...</td>\n",
       "      <td>1.0</td>\n",
       "      <td>1.0</td>\n",
       "      <td>126.0</td>\n",
       "      <td>NaN</td>\n",
       "      <td>NaN</td>\n",
       "      <td>Yarra City Council</td>\n",
       "      <td>-37.8014</td>\n",
       "      <td>144.9958</td>\n",
       "      <td>Northern Metropolitan</td>\n",
       "      <td>4019.0</td>\n",
       "    </tr>\n",
       "    <tr>\n",
       "      <th>1</th>\n",
       "      <td>Abbotsford</td>\n",
       "      <td>85 Turner St</td>\n",
       "      <td>2</td>\n",
       "      <td>h</td>\n",
       "      <td>1480000.0</td>\n",
       "      <td>S</td>\n",
       "      <td>Biggin</td>\n",
       "      <td>3/12/2016</td>\n",
       "      <td>2.5</td>\n",
       "      <td>3067.0</td>\n",
       "      <td>...</td>\n",
       "      <td>1.0</td>\n",
       "      <td>1.0</td>\n",
       "      <td>202.0</td>\n",
       "      <td>NaN</td>\n",
       "      <td>NaN</td>\n",
       "      <td>Yarra City Council</td>\n",
       "      <td>-37.7996</td>\n",
       "      <td>144.9984</td>\n",
       "      <td>Northern Metropolitan</td>\n",
       "      <td>4019.0</td>\n",
       "    </tr>\n",
       "    <tr>\n",
       "      <th>2</th>\n",
       "      <td>Abbotsford</td>\n",
       "      <td>25 Bloomburg St</td>\n",
       "      <td>2</td>\n",
       "      <td>h</td>\n",
       "      <td>1035000.0</td>\n",
       "      <td>S</td>\n",
       "      <td>Biggin</td>\n",
       "      <td>4/02/2016</td>\n",
       "      <td>2.5</td>\n",
       "      <td>3067.0</td>\n",
       "      <td>...</td>\n",
       "      <td>1.0</td>\n",
       "      <td>0.0</td>\n",
       "      <td>156.0</td>\n",
       "      <td>79.0</td>\n",
       "      <td>1900.0</td>\n",
       "      <td>Yarra City Council</td>\n",
       "      <td>-37.8079</td>\n",
       "      <td>144.9934</td>\n",
       "      <td>Northern Metropolitan</td>\n",
       "      <td>4019.0</td>\n",
       "    </tr>\n",
       "    <tr>\n",
       "      <th>3</th>\n",
       "      <td>Abbotsford</td>\n",
       "      <td>18/659 Victoria St</td>\n",
       "      <td>3</td>\n",
       "      <td>u</td>\n",
       "      <td>NaN</td>\n",
       "      <td>VB</td>\n",
       "      <td>Rounds</td>\n",
       "      <td>4/02/2016</td>\n",
       "      <td>2.5</td>\n",
       "      <td>3067.0</td>\n",
       "      <td>...</td>\n",
       "      <td>2.0</td>\n",
       "      <td>1.0</td>\n",
       "      <td>0.0</td>\n",
       "      <td>NaN</td>\n",
       "      <td>NaN</td>\n",
       "      <td>Yarra City Council</td>\n",
       "      <td>-37.8114</td>\n",
       "      <td>145.0116</td>\n",
       "      <td>Northern Metropolitan</td>\n",
       "      <td>4019.0</td>\n",
       "    </tr>\n",
       "    <tr>\n",
       "      <th>4</th>\n",
       "      <td>Abbotsford</td>\n",
       "      <td>5 Charles St</td>\n",
       "      <td>3</td>\n",
       "      <td>h</td>\n",
       "      <td>1465000.0</td>\n",
       "      <td>SP</td>\n",
       "      <td>Biggin</td>\n",
       "      <td>4/03/2017</td>\n",
       "      <td>2.5</td>\n",
       "      <td>3067.0</td>\n",
       "      <td>...</td>\n",
       "      <td>2.0</td>\n",
       "      <td>0.0</td>\n",
       "      <td>134.0</td>\n",
       "      <td>150.0</td>\n",
       "      <td>1900.0</td>\n",
       "      <td>Yarra City Council</td>\n",
       "      <td>-37.8093</td>\n",
       "      <td>144.9944</td>\n",
       "      <td>Northern Metropolitan</td>\n",
       "      <td>4019.0</td>\n",
       "    </tr>\n",
       "    <tr>\n",
       "      <th>5</th>\n",
       "      <td>Abbotsford</td>\n",
       "      <td>40 Federation La</td>\n",
       "      <td>3</td>\n",
       "      <td>h</td>\n",
       "      <td>850000.0</td>\n",
       "      <td>PI</td>\n",
       "      <td>Biggin</td>\n",
       "      <td>4/03/2017</td>\n",
       "      <td>2.5</td>\n",
       "      <td>3067.0</td>\n",
       "      <td>...</td>\n",
       "      <td>2.0</td>\n",
       "      <td>1.0</td>\n",
       "      <td>94.0</td>\n",
       "      <td>NaN</td>\n",
       "      <td>NaN</td>\n",
       "      <td>Yarra City Council</td>\n",
       "      <td>-37.7969</td>\n",
       "      <td>144.9969</td>\n",
       "      <td>Northern Metropolitan</td>\n",
       "      <td>4019.0</td>\n",
       "    </tr>\n",
       "    <tr>\n",
       "      <th>6</th>\n",
       "      <td>Abbotsford</td>\n",
       "      <td>55a Park St</td>\n",
       "      <td>4</td>\n",
       "      <td>h</td>\n",
       "      <td>1600000.0</td>\n",
       "      <td>VB</td>\n",
       "      <td>Nelson</td>\n",
       "      <td>4/06/2016</td>\n",
       "      <td>2.5</td>\n",
       "      <td>3067.0</td>\n",
       "      <td>...</td>\n",
       "      <td>1.0</td>\n",
       "      <td>2.0</td>\n",
       "      <td>120.0</td>\n",
       "      <td>142.0</td>\n",
       "      <td>2014.0</td>\n",
       "      <td>Yarra City Council</td>\n",
       "      <td>-37.8072</td>\n",
       "      <td>144.9941</td>\n",
       "      <td>Northern Metropolitan</td>\n",
       "      <td>4019.0</td>\n",
       "    </tr>\n",
       "    <tr>\n",
       "      <th>7</th>\n",
       "      <td>Abbotsford</td>\n",
       "      <td>16 Maugie St</td>\n",
       "      <td>4</td>\n",
       "      <td>h</td>\n",
       "      <td>NaN</td>\n",
       "      <td>SN</td>\n",
       "      <td>Nelson</td>\n",
       "      <td>6/08/2016</td>\n",
       "      <td>2.5</td>\n",
       "      <td>3067.0</td>\n",
       "      <td>...</td>\n",
       "      <td>2.0</td>\n",
       "      <td>2.0</td>\n",
       "      <td>400.0</td>\n",
       "      <td>220.0</td>\n",
       "      <td>2006.0</td>\n",
       "      <td>Yarra City Council</td>\n",
       "      <td>-37.7965</td>\n",
       "      <td>144.9965</td>\n",
       "      <td>Northern Metropolitan</td>\n",
       "      <td>4019.0</td>\n",
       "    </tr>\n",
       "    <tr>\n",
       "      <th>8</th>\n",
       "      <td>Abbotsford</td>\n",
       "      <td>53 Turner St</td>\n",
       "      <td>2</td>\n",
       "      <td>h</td>\n",
       "      <td>NaN</td>\n",
       "      <td>S</td>\n",
       "      <td>Biggin</td>\n",
       "      <td>6/08/2016</td>\n",
       "      <td>2.5</td>\n",
       "      <td>3067.0</td>\n",
       "      <td>...</td>\n",
       "      <td>1.0</td>\n",
       "      <td>2.0</td>\n",
       "      <td>201.0</td>\n",
       "      <td>NaN</td>\n",
       "      <td>1900.0</td>\n",
       "      <td>Yarra City Council</td>\n",
       "      <td>-37.7995</td>\n",
       "      <td>144.9974</td>\n",
       "      <td>Northern Metropolitan</td>\n",
       "      <td>4019.0</td>\n",
       "    </tr>\n",
       "    <tr>\n",
       "      <th>9</th>\n",
       "      <td>Abbotsford</td>\n",
       "      <td>99 Turner St</td>\n",
       "      <td>2</td>\n",
       "      <td>h</td>\n",
       "      <td>NaN</td>\n",
       "      <td>S</td>\n",
       "      <td>Collins</td>\n",
       "      <td>6/08/2016</td>\n",
       "      <td>2.5</td>\n",
       "      <td>3067.0</td>\n",
       "      <td>...</td>\n",
       "      <td>2.0</td>\n",
       "      <td>1.0</td>\n",
       "      <td>202.0</td>\n",
       "      <td>NaN</td>\n",
       "      <td>1900.0</td>\n",
       "      <td>Yarra City Council</td>\n",
       "      <td>-37.7996</td>\n",
       "      <td>144.9989</td>\n",
       "      <td>Northern Metropolitan</td>\n",
       "      <td>4019.0</td>\n",
       "    </tr>\n",
       "  </tbody>\n",
       "</table>\n",
       "<p>10 rows × 21 columns</p>\n",
       "</div>"
      ],
      "text/plain": [
       "       Suburb             Address  Rooms Type      Price Method  SellerG  \\\n",
       "0  Abbotsford       68 Studley St      2    h        NaN     SS   Jellis   \n",
       "1  Abbotsford        85 Turner St      2    h  1480000.0      S   Biggin   \n",
       "2  Abbotsford     25 Bloomburg St      2    h  1035000.0      S   Biggin   \n",
       "3  Abbotsford  18/659 Victoria St      3    u        NaN     VB   Rounds   \n",
       "4  Abbotsford        5 Charles St      3    h  1465000.0     SP   Biggin   \n",
       "5  Abbotsford    40 Federation La      3    h   850000.0     PI   Biggin   \n",
       "6  Abbotsford         55a Park St      4    h  1600000.0     VB   Nelson   \n",
       "7  Abbotsford        16 Maugie St      4    h        NaN     SN   Nelson   \n",
       "8  Abbotsford        53 Turner St      2    h        NaN      S   Biggin   \n",
       "9  Abbotsford        99 Turner St      2    h        NaN      S  Collins   \n",
       "\n",
       "        Date  Distance  Postcode  ...  Bathroom  Car  Landsize  BuildingArea  \\\n",
       "0  3/09/2016       2.5    3067.0  ...       1.0  1.0     126.0           NaN   \n",
       "1  3/12/2016       2.5    3067.0  ...       1.0  1.0     202.0           NaN   \n",
       "2  4/02/2016       2.5    3067.0  ...       1.0  0.0     156.0          79.0   \n",
       "3  4/02/2016       2.5    3067.0  ...       2.0  1.0       0.0           NaN   \n",
       "4  4/03/2017       2.5    3067.0  ...       2.0  0.0     134.0         150.0   \n",
       "5  4/03/2017       2.5    3067.0  ...       2.0  1.0      94.0           NaN   \n",
       "6  4/06/2016       2.5    3067.0  ...       1.0  2.0     120.0         142.0   \n",
       "7  6/08/2016       2.5    3067.0  ...       2.0  2.0     400.0         220.0   \n",
       "8  6/08/2016       2.5    3067.0  ...       1.0  2.0     201.0           NaN   \n",
       "9  6/08/2016       2.5    3067.0  ...       2.0  1.0     202.0           NaN   \n",
       "\n",
       "   YearBuilt         CouncilArea Lattitude  Longtitude             Regionname  \\\n",
       "0        NaN  Yarra City Council  -37.8014    144.9958  Northern Metropolitan   \n",
       "1        NaN  Yarra City Council  -37.7996    144.9984  Northern Metropolitan   \n",
       "2     1900.0  Yarra City Council  -37.8079    144.9934  Northern Metropolitan   \n",
       "3        NaN  Yarra City Council  -37.8114    145.0116  Northern Metropolitan   \n",
       "4     1900.0  Yarra City Council  -37.8093    144.9944  Northern Metropolitan   \n",
       "5        NaN  Yarra City Council  -37.7969    144.9969  Northern Metropolitan   \n",
       "6     2014.0  Yarra City Council  -37.8072    144.9941  Northern Metropolitan   \n",
       "7     2006.0  Yarra City Council  -37.7965    144.9965  Northern Metropolitan   \n",
       "8     1900.0  Yarra City Council  -37.7995    144.9974  Northern Metropolitan   \n",
       "9     1900.0  Yarra City Council  -37.7996    144.9989  Northern Metropolitan   \n",
       "\n",
       "  Propertycount  \n",
       "0        4019.0  \n",
       "1        4019.0  \n",
       "2        4019.0  \n",
       "3        4019.0  \n",
       "4        4019.0  \n",
       "5        4019.0  \n",
       "6        4019.0  \n",
       "7        4019.0  \n",
       "8        4019.0  \n",
       "9        4019.0  \n",
       "\n",
       "[10 rows x 21 columns]"
      ]
     },
     "execution_count": 417,
     "metadata": {},
     "output_type": "execute_result"
    }
   ],
   "source": [
    "import pandas as pd\n",
    "import numpy as np\n",
    "\n",
    "\n",
    "#Read Data \n",
    "dataset3=pd.read_csv(\"MS.csv\")\n",
    "\n",
    "dataset3.head(10)"
   ]
  },
  {
   "cell_type": "code",
   "execution_count": 418,
   "id": "2c08f681",
   "metadata": {},
   "outputs": [
    {
     "name": "stdout",
     "output_type": "stream",
     "text": [
      "<class 'pandas.core.frame.DataFrame'>\n",
      "RangeIndex: 34857 entries, 0 to 34856\n",
      "Data columns (total 21 columns):\n",
      " #   Column         Non-Null Count  Dtype  \n",
      "---  ------         --------------  -----  \n",
      " 0   Suburb         34857 non-null  object \n",
      " 1   Address        34857 non-null  object \n",
      " 2   Rooms          34857 non-null  int64  \n",
      " 3   Type           34857 non-null  object \n",
      " 4   Price          27247 non-null  float64\n",
      " 5   Method         34857 non-null  object \n",
      " 6   SellerG        34857 non-null  object \n",
      " 7   Date           34857 non-null  object \n",
      " 8   Distance       34856 non-null  float64\n",
      " 9   Postcode       34856 non-null  float64\n",
      " 10  Bedroom2       26640 non-null  float64\n",
      " 11  Bathroom       26631 non-null  float64\n",
      " 12  Car            26129 non-null  float64\n",
      " 13  Landsize       23047 non-null  float64\n",
      " 14  BuildingArea   13742 non-null  float64\n",
      " 15  YearBuilt      15551 non-null  float64\n",
      " 16  CouncilArea    34854 non-null  object \n",
      " 17  Lattitude      26881 non-null  float64\n",
      " 18  Longtitude     26881 non-null  float64\n",
      " 19  Regionname     34854 non-null  object \n",
      " 20  Propertycount  34854 non-null  float64\n",
      "dtypes: float64(12), int64(1), object(8)\n",
      "memory usage: 5.6+ MB\n"
     ]
    }
   ],
   "source": [
    "#Display information about dataset\n",
    "dataset3.info()"
   ]
  },
  {
   "cell_type": "code",
   "execution_count": 419,
   "id": "4e6ad710",
   "metadata": {},
   "outputs": [
    {
     "data": {
      "text/plain": [
       "Suburb               0\n",
       "Address              0\n",
       "Rooms                0\n",
       "Type                 0\n",
       "Price             7610\n",
       "Method               0\n",
       "SellerG              0\n",
       "Date                 0\n",
       "Distance             1\n",
       "Postcode             1\n",
       "Bedroom2          8217\n",
       "Bathroom          8226\n",
       "Car               8728\n",
       "Landsize         11810\n",
       "BuildingArea     21115\n",
       "YearBuilt        19306\n",
       "CouncilArea          3\n",
       "Lattitude         7976\n",
       "Longtitude        7976\n",
       "Regionname           3\n",
       "Propertycount        3\n",
       "dtype: int64"
      ]
     },
     "execution_count": 419,
     "metadata": {},
     "output_type": "execute_result"
    }
   ],
   "source": [
    "#Calculate the null values present in dataset\n",
    "dataset3.isnull().sum()"
   ]
  },
  {
   "cell_type": "code",
   "execution_count": 413,
   "id": "4d14dd53",
   "metadata": {},
   "outputs": [],
   "source": [
    "#assign features and Label\n",
    "X= dataset3.iloc[ :, :-1].values\n",
    "Y= dataset3.iloc[:,-1].values\n"
   ]
  },
  {
   "cell_type": "code",
   "execution_count": 424,
   "id": "d91354e7",
   "metadata": {},
   "outputs": [],
   "source": [
    "#Replace all missing values by Mean\n",
    "\n",
    "#import Imputer \n",
    "from sklearn.impute import SimpleImputer\n",
    "\n",
    "\n",
    "imp = SimpleImputer(missing_values=np.nan, strategy='mean')\n",
    "\n",
    "#Assign Index of Columns that contain missing value \n",
    "numerical_Column = [4,10,11,12,13,14,15,17,18]\n",
    "\n",
    "imp.fit(X[:,numerical_Column ])\n",
    "X[:, numerical_Column] = imp.transform(X[:,numerical_Column])\n",
    "\n"
   ]
  },
  {
   "cell_type": "code",
   "execution_count": 428,
   "id": "0b89dd67",
   "metadata": {},
   "outputs": [
    {
     "name": "stdout",
     "output_type": "stream",
     "text": [
      "[['Abbotsford' '68 Studley St' 2 ... -37.8014 144.9958\n",
      "  'Northern Metropolitan']\n",
      " ['Abbotsford' '85 Turner St' 2 ... -37.7996 144.9984\n",
      "  'Northern Metropolitan']\n",
      " ['Abbotsford' '25 Bloomburg St' 2 ... -37.8079 144.9934\n",
      "  'Northern Metropolitan']\n",
      " ...\n",
      " ['Yarraville' '147A Severn St' 2 ... -37.82286 144.87856\n",
      "  'Western Metropolitan']\n",
      " ['Yarraville' '12/37 Stephen St' 3 ... -37.810634295599115\n",
      "  145.00185113165432 'Western Metropolitan']\n",
      " ['Yarraville' '3 Tarrengower St' 2 ... -37.8181 144.89351\n",
      "  'Western Metropolitan']]\n"
     ]
    }
   ],
   "source": [
    "#to check the missing values\n",
    "print(X)\n"
   ]
  },
  {
   "cell_type": "code",
   "execution_count": 429,
   "id": "d2938ddb",
   "metadata": {},
   "outputs": [],
   "source": [
    "\n",
    "\n",
    "#now we need to encode data into numeric\n",
    "from sklearn.compose import ColumnTransformer\n",
    "from sklearn.preprocessing import OneHotEncoder\n",
    "\n",
    "\n",
    "ct = ColumnTransformer(transformers=[('encoder', OneHotEncoder(), [19])], remainder='passthrough')\n",
    "X = np.array(ct.fit_transform(X))\n",
    "\n",
    "\n",
    "\n",
    "\n",
    "# Splitting the dataset into the Training set and Test set\n",
    "from sklearn.model_selection import train_test_split\n",
    "X_train, X_test, y_train, y_test = train_test_split(X, Y, test_size = 0.2, random_state = 1)\n"
   ]
  },
  {
   "cell_type": "code",
   "execution_count": 430,
   "id": "1c5d4e16",
   "metadata": {},
   "outputs": [
    {
     "name": "stdout",
     "output_type": "stream",
     "text": [
      "[[1.0 0.0 0.0 ... 'Manningham City Council' -37.76684 145.11309]\n",
      " [0.0 0.0 0.0 ... 'Boroondara City Council' -37.804 145.0553]\n",
      " [1.0 0.0 0.0 ... 'Whitehorse City Council' -37.83816 145.17783]\n",
      " ...\n",
      " [0.0 0.0 0.0 ... 'Boroondara City Council' -37.8263 145.0257]\n",
      " [0.0 0.0 0.0 ... 'Monash City Council' -37.8696 145.1111]\n",
      " [0.0 0.0 0.0 ... 'Boroondara City Council' -37.80467 145.10322]]\n",
      "[[0.0 0.0 0.0 ... 'Glen Eira City Council' -37.90719 145.0546]\n",
      " [0.0 0.0 0.0 ... 'Maribyrnong City Council' -37.810634295599115\n",
      "  145.00185113165432]\n",
      " [0.0 0.0 1.0 ... 'Yarra City Council' -37.810634295599115\n",
      "  145.00185113165432]\n",
      " ...\n",
      " [1.0 0.0 0.0 ... 'Manningham City Council' -37.78547 145.14153]\n",
      " [0.0 0.0 0.0 ... 'Glen Eira City Council' -37.8937 145.0137]\n",
      " [1.0 0.0 0.0 ... 'Banyule City Council' -37.810634295599115\n",
      "  145.00185113165432]]\n"
     ]
    }
   ],
   "source": [
    "#Rescalling the data \n",
    "from sklearn.preprocessing import StandardScaler\n",
    "\n",
    "sc = StandardScaler()\n",
    "\n",
    "\n",
    "X_train[:, [4]] = sc.fit_transform(X_train[:, [4]])\n",
    "X_test[:, [4]] = sc.transform(X_test[:, [4]])\n",
    "\n",
    "print(X_train)\n",
    "print(X_test)\n"
   ]
  },
  {
   "cell_type": "code",
   "execution_count": null,
   "id": "b79d40ff",
   "metadata": {},
   "outputs": [],
   "source": []
  }
 ],
 "metadata": {
  "kernelspec": {
   "display_name": "Python 3 (ipykernel)",
   "language": "python",
   "name": "python3"
  },
  "language_info": {
   "codemirror_mode": {
    "name": "ipython",
    "version": 3
   },
   "file_extension": ".py",
   "mimetype": "text/x-python",
   "name": "python",
   "nbconvert_exporter": "python",
   "pygments_lexer": "ipython3",
   "version": "3.9.7"
  }
 },
 "nbformat": 4,
 "nbformat_minor": 5
}
